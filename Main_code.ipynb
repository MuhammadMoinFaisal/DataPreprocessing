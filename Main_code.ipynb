{
 "cells": [
  {
   "cell_type": "code",
   "execution_count": 112,
   "metadata": {
    "_cell_guid": "00bcc552-f2a5-4364-a41a-2c5766d88d6d",
    "_uuid": "68f7dc0b-5efe-422f-a856-223bd6b29c6d",
    "execution": {
     "iopub.execute_input": "2021-08-18T14:13:39.729458Z",
     "iopub.status.busy": "2021-08-18T14:13:39.729108Z",
     "iopub.status.idle": "2021-08-18T14:13:45.736089Z",
     "shell.execute_reply": "2021-08-18T14:13:45.735164Z",
     "shell.execute_reply.started": "2021-08-18T14:13:39.729426Z"
    },
    "jupyter": {
     "outputs_hidden": false
    }
   },
   "outputs": [
    {
     "name": "stderr",
     "output_type": "stream",
     "text": [
      "[nltk_data] Downloading package stopwords to\n",
      "[nltk_data]     C:\\Users\\92303\\AppData\\Roaming\\nltk_data...\n",
      "[nltk_data]   Package stopwords is already up-to-date!\n",
      "[nltk_data] Downloading package punkt to\n",
      "[nltk_data]     C:\\Users\\92303\\AppData\\Roaming\\nltk_data...\n",
      "[nltk_data]   Package punkt is already up-to-date!\n"
     ]
    },
    {
     "name": "stdout",
     "output_type": "stream",
     "text": [
      "Requirement already satisfied: wget in c:\\users\\92303\\anaconda3\\lib\\site-packages (3.2)\n"
     ]
    }
   ],
   "source": [
    "import numpy as np # linear algebra\n",
    "import pandas as pd # data processing, CSV file I/O (e.g. pd.read_csv)\n",
    "import torch\n",
    "import torch.nn as nn\n",
    "import torch.nn.functional as F\n",
    "from nltk.corpus import stopwords \n",
    "from collections import Counter\n",
    "import string\n",
    "import re\n",
    "import seaborn as sns\n",
    "from tqdm import tqdm\n",
    "import matplotlib.pyplot as plt\n",
    "from torch.utils.data import TensorDataset, DataLoader\n",
    "from sklearn.model_selection import train_test_split\n",
    "import re\n",
    "import string\n",
    "import nltk\n",
    "nltk.download('stopwords')\n",
    "from nltk.corpus import stopwords\n",
    "nltk.download('punkt')\n",
    "from nltk.tokenize import word_tokenize\n",
    "!pip install wget\n",
    "import wget"
   ]
  },
  {
   "cell_type": "code",
   "execution_count": 113,
   "metadata": {
    "_cell_guid": "16e09c3d-d017-4b1f-8358-08a91616bced",
    "_uuid": "b1c0dc35-eb70-4661-bfcc-fe188c072c7b",
    "execution": {
     "iopub.execute_input": "2021-08-18T14:13:45.740378Z",
     "iopub.status.busy": "2021-08-18T14:13:45.740081Z",
     "iopub.status.idle": "2021-08-18T14:13:45.746322Z",
     "shell.execute_reply": "2021-08-18T14:13:45.745388Z",
     "shell.execute_reply.started": "2021-08-18T14:13:45.740348Z"
    },
    "jupyter": {
     "outputs_hidden": false
    }
   },
   "outputs": [
    {
     "name": "stdout",
     "output_type": "stream",
     "text": [
      "GPU not available, CPU used\n"
     ]
    }
   ],
   "source": [
    "is_cuda = torch.cuda.is_available()\n",
    "\n",
    "# If we have a GPU available, we'll set our device to GPU. We'll use this device variable later in our code.\n",
    "if is_cuda:\n",
    "    device = torch.device(\"cuda\")\n",
    "    print(\"GPU is available\")\n",
    "else:\n",
    "    device = torch.device(\"cpu\")\n",
    "    print(\"GPU not available, CPU used\")"
   ]
  },
  {
   "cell_type": "code",
   "execution_count": 114,
   "metadata": {
    "_cell_guid": "9791dea7-acc9-4ddf-a75f-1aa0f70e4f37",
    "_uuid": "40c9032c-990c-4993-96bd-ad8a025d23dd",
    "execution": {
     "iopub.execute_input": "2021-08-18T14:13:45.748482Z",
     "iopub.status.busy": "2021-08-18T14:13:45.748085Z",
     "iopub.status.idle": "2021-08-18T14:13:46.451297Z",
     "shell.execute_reply": "2021-08-18T14:13:46.450446Z",
     "shell.execute_reply.started": "2021-08-18T14:13:45.748445Z"
    },
    "jupyter": {
     "outputs_hidden": false
    }
   },
   "outputs": [
    {
     "data": {
      "text/html": [
       "<div>\n",
       "<style scoped>\n",
       "    .dataframe tbody tr th:only-of-type {\n",
       "        vertical-align: middle;\n",
       "    }\n",
       "\n",
       "    .dataframe tbody tr th {\n",
       "        vertical-align: top;\n",
       "    }\n",
       "\n",
       "    .dataframe thead th {\n",
       "        text-align: right;\n",
       "    }\n",
       "</style>\n",
       "<table border=\"1\" class=\"dataframe\">\n",
       "  <thead>\n",
       "    <tr style=\"text-align: right;\">\n",
       "      <th></th>\n",
       "      <th>review</th>\n",
       "      <th>sentiment</th>\n",
       "    </tr>\n",
       "  </thead>\n",
       "  <tbody>\n",
       "    <tr>\n",
       "      <th>0</th>\n",
       "      <td>One of the other reviewers has mentioned that ...</td>\n",
       "      <td>positive</td>\n",
       "    </tr>\n",
       "    <tr>\n",
       "      <th>1</th>\n",
       "      <td>A wonderful little production. &lt;br /&gt;&lt;br /&gt;The...</td>\n",
       "      <td>positive</td>\n",
       "    </tr>\n",
       "    <tr>\n",
       "      <th>2</th>\n",
       "      <td>I thought this was a wonderful way to spend ti...</td>\n",
       "      <td>positive</td>\n",
       "    </tr>\n",
       "    <tr>\n",
       "      <th>3</th>\n",
       "      <td>Basically there's a family where a little boy ...</td>\n",
       "      <td>negative</td>\n",
       "    </tr>\n",
       "    <tr>\n",
       "      <th>4</th>\n",
       "      <td>Petter Mattei's \"Love in the Time of Money\" is...</td>\n",
       "      <td>positive</td>\n",
       "    </tr>\n",
       "  </tbody>\n",
       "</table>\n",
       "</div>"
      ],
      "text/plain": [
       "                                              review sentiment\n",
       "0  One of the other reviewers has mentioned that ...  positive\n",
       "1  A wonderful little production. <br /><br />The...  positive\n",
       "2  I thought this was a wonderful way to spend ti...  positive\n",
       "3  Basically there's a family where a little boy ...  negative\n",
       "4  Petter Mattei's \"Love in the Time of Money\" is...  positive"
      ]
     },
     "execution_count": 114,
     "metadata": {},
     "output_type": "execute_result"
    }
   ],
   "source": [
    "path = 'IMDB Dataset.csv'\n",
    "path1 = 'Test.csv'\n",
    "df = pd.read_csv(path)\n",
    "df1= pd.read_csv(path1)\n",
    "dats = df[['sentiment']]\n",
    "data.head()\n"
   ]
  },
  {
   "cell_type": "code",
   "execution_count": 115,
   "metadata": {
    "execution": {
     "iopub.execute_input": "2021-08-18T14:13:46.457503Z",
     "iopub.status.busy": "2021-08-18T14:13:46.455466Z",
     "iopub.status.idle": "2021-08-18T14:13:46.465340Z",
     "shell.execute_reply": "2021-08-18T14:13:46.463644Z",
     "shell.execute_reply.started": "2021-08-18T14:13:46.457427Z"
    }
   },
   "outputs": [
    {
     "name": "stdout",
     "output_type": "stream",
     "text": [
      "(50000, 2)\n"
     ]
    }
   ],
   "source": [
    "print(data.shape)"
   ]
  },
  {
   "cell_type": "markdown",
   "metadata": {},
   "source": [
    "# Data Pre-processing"
   ]
  },
  {
   "cell_type": "markdown",
   "metadata": {},
   "source": [
    "# 1. Coverts all the characters in text to lower case\n",
    "# 2. Clean text by removing unnecessary characters and altering the format of   words.\n",
    "# 3. Mapping of integers or characters to integers, strings\n",
    "# 4. Removing Extra Space\n",
    "# 5. Stemming and Lematization"
   ]
  },
  {
   "cell_type": "code",
   "execution_count": 116,
   "metadata": {},
   "outputs": [
    {
     "data": {
      "text/plain": [
       "['one of the other reviewers has mentioned that after watching just oz episode you will be hooked they are right as this is exactly what happened with mebr br the first thing that struck me about oz was its brutality and unflinching scenes of violence which set in right from the word go trust me this is not a show for the faint hearted or timid this show pulls no punches with regards to drugs sex or violence its is hardcore in the classic use of the wordbr br it is called oz as that is the nickname given to the oswald maximum security state penitentary it focuses mainly on emerald city an experimental section of the prison where all the cells have glass fronts and face inwards so privacy is not high on the agenda em city is home to manyaryans muslims gangstas latinos christians italians irish and moreso scuffles death stares dodgy dealings and shady agreements are never far awaybr br i would say the main appeal of the show is due to the fact that it goes where other shows would nt dare forget pretty pictures painted for mainstream audiences forget charm forget romanceoz does nt mess around the first episode i ever saw struck me as so nasty it was surreal i could not say i was ready for it but as i watched more i developed a taste for oz and got accustomed to the high levels of graphic violence not just violence but injustice crooked guards who will be sold out for a nickel inmates who will kill on order and get away with it well mannered middle class inmates being turned into prison bitches due to their lack of street skills or prison experience watching oz you may become comfortable with what is uncomfortable viewingthats if you can get in touch with your darker side',\n",
       " 'a wonderful little production br br the filming technique is very unassuming very oldtimebbc fashion and gives a comforting and sometimes discomforting sense of realism to the entire piece br br the actors are extremely well chosen michael sheen not only has got all the polari but he has all the voices down pat too you can truly see the seamless editing guided by the references to williams diary entries not only is it well worth the watching but it is a terrificly written and performed piece a masterful production about one of the great master s of comedy and his life br br the realism really comes home with the little things the fantasy of the guard which rather than use the traditional wouldream techniques remains solid then disappears it plays on our knowledge and our senses particularly with the scenes concerning orton and halliwell and the sets particularly of their flat with halliwell s murals decorating every surface are terribly well done',\n",
       " 'i thought this was a wonderful way to spend time on a too hot summer weekend sitting in the air conditioned theater and watching a lighthearted comedy the plot is simplistic but the dialogue is witty and the characters are likable even the well bread suspected serial killer while some may be disappointed when they realize this is not match point risk addiction i thought it was proof that woody allen is still fully in control of the style many of us have grown to lovebr br this was the most i would laughed at one of woody s comedies in years dare i say a decade while i have never been impressed with scarlet johanson in this she managed to tone down her sexy image and jumped right into a average but spirited young womanbr br this may not be the crown jewel of his career but it was wittier than devil wears prada and more interesting than superman a great comedy to go see with friends',\n",
       " 'basically there s a family where a little boy jake thinks there s a zombie in his closet his parents are fighting all the timebr br this movie is slower than a soap opera and suddenly jake decides to become rambo and kill the zombiebr br ok first of all when you are going to make a film you must decide if its a thriller or a drama as a drama the movie is watchable parents are divorcing arguing like in real life and then we have jake with his closet which totally ruins all the film i expected to see a boogeyman similar movie and instead i watched a drama with some meaningless thriller spotsbr br out of just for the well playing parents descent dialogs as for the shots with jake just ignore them',\n",
       " 'petter mattei s love in the time of money is a visually stunning film to watch mr mattei offers us a vivid portrait about human relations this is a movie that seems to be telling us what money power and success do to people in the different situations we encounter br br this being a variation on the arthur schnitzler s play about the same theme the director transfers the action to the present time new york where all these different characters meet and connect each one is connected in one way or another to the next person but no one seems to know the previous point of contact stylishly the film has a sophisticated luxurious look we are taken to see how these people live and the world they live in their own habitatbr br the only thing one gets out of all these souls in the picture is the different stages of loneliness each one inhabits a big city is not exactly the best place in which human relations find sincere fulfillment as one discerns is the case with most of the people we encounterbr br the acting is good under mr mattei s direction steve buscemi rosario dawson carol kane michael imperioli adrian grenier and the rest of the talented cast make these characters come alivebr br we wish mr mattei good luck and await anxiously for his next work',\n",
       " 'probably my alltime favorite movie a story of selflessness sacrifice and dedication to a noble cause but it is not preachy or boring it just never gets old despite my having seen it some or more times in the last years paul lukas performance brings tears to my eyes and bette davis in one of her very few truly sympathetic roles is a delight the kids are as grandma says more like dressedup midgets than children but that only makes them more fun to watch and the mother s slow awakening to what is happening in the world and under her own roof is believable and startling if i had a dozen thumbs they would all be up for this movie',\n",
       " 'i sure would like to see a resurrection of a up dated seahunt series with the tech they have today it would bring back the kid excitement in mei grew up on black and white tv and seahunt with gunsmoke were my hero s every weekyou have my vote for a comeback of a new sea huntwe need a change of pace in tv and this would work for a world of under water adventureoh by the way thank you for an outlet like this to view many viewpoints about tv and the many moviesso any ole way i believe i have got what i wan na saywould be nice to read some more plus points about sea huntif my rhymes would be lines would you let me submitor leave me out to be in doubt and have me to quitif this is so then i must go so lets do it',\n",
       " 'this show was an amazing fresh innovative idea in the s when it first aired the first or years were brilliant but things dropped off after that by the show was not really funny anymore and it is continued its decline further to the complete waste of time it is todaybr br it is truly disgraceful how far this show has fallen the writing is painfully bad the performances are almost as bad if not for the mildly entertaining respite of the guesthosts this show probably would nt still be on the air i find it so hard to believe that the same creator that handselected the original cast also chose the band of hacks that followed how can one recognize such brilliance and then see fit to replace it with such mediocrity i felt i must give stars out of respect for the original cast that made this show such a huge success as it is now the show is just awful i can not believe it is still on the air',\n",
       " 'encouraged by the positive comments about this film on here i was looking forward to watching this film bad mistake i have seen films and this is truly one of the worst of them it is awful in almost every way editing pacing storyline acting soundtrack the film s only song a lame country tune is played no less than four times the film looks cheap and nasty and is boring in the extreme rarely have i been so happy to see the end credits of a film br br the only thing that prevents me giving this a is harvey keitel while this is far from his best performance he at least seems to be making a bit of an effort one for keitel obsessives only',\n",
       " 'if you like original gut wrenching laughter you will like this movie if you are young or old then you will love this movie hell even my mom liked itbr br great camp',\n",
       " 'phil the alien is one of those quirky films where the humour is based around the oddness of everything rather than actual punchlinesbr br at first it was very odd and pretty funny but as the movie progressed i did nt find the jokes or oddness funny anymorebr br its a low budget film thats never a problem in itself there were some pretty interesting characters but eventually i just lost interestbr br i imagine this film would appeal to a stoner who is currently partakingbr br for something similar but better try brother from another planet',\n",
       " 'i saw this movie when i was about when it came out i recall the scariest scene was the big bird eating men dangling helplessly from parachutes right out of the air the horror the horrorbr br as a young kid going to these cheesy b films on saturday afternoons i still was tired of the formula for these monster type movies that usually included the hero a beautiful woman who might be the daughter of a professor and a happy resolution when the monster died in the end i did nt care much for the romantic angle as a year old and the predictable plots i love them now for the unintentional humorbr br but about a year or so later i saw psycho when it came out and i loved that the star janet leigh was bumped off early in the film i sat up and took notice at that point since screenwriters are making up the story make it up to be as scary as possible and not from a wellworn formula there are no rules',\n",
       " 'so im not a big fan of boll s work but then again not many are i enjoyed his movie postal maybe im the only one boll apparently bought the rights to use far cry long ago even before the game itself was even finsished br br people who have enjoyed killing mercs and infiltrating secret research labs located on a tropical island should be warned that this is not far cry this is something mr boll have schemed together along with his legion of schmucks feeling loneley on the set mr boll invites three of his countrymen to play with these players go by the names of til schweiger udo kier and ralf moellerbr br three names that actually have made them selfs pretty big in the movie biz so the tale goes like this jack carver played by til schweiger yes carver is german all hail the bratwurst eating dudes however i find that tils acting in this movie is pretty badass people have complained about how he is not really staying true to the whole carver agenda but we only saw carver in a first person perspective so we do not really know what he looked like when he was kicking a br br however the storyline in this film is beyond demented we see the evil mad scientist dr krieger played by udo kier making geneticallymutatedsoldiers or gms as they are called performing his topsecret research on an island that reminds me of spoiler vancouver for some reason thats right no palm trees here instead we got some nice rich lumberjackwoods we have nt even gone far before i started to cry mehehe i can not go on any more if you wan na stay true to bolls shenanigans then go and see this movie you will not be disappointed it delivers the true boll experience meaning most of it will suckbr br there are some things worth mentioning that would imply that boll did a good work on some areas of the film such as some nice boat and fighting scenes until the whole cromedalbino gms squad enters the scene and everything just makes me laugh the movie far cry reeks of scheisse that is poop for you simpletons from a far if you wan na take a wiff go ahead btw carver gets a very annoying sidekick who makes you wan na shoot him the first three minutes he is on screen',\n",
       " 'the cast played shakespearebr br shakespeare lostbr br i appreciate that this is trying to bring shakespeare to the masses but why ruin something so goodbr br is it because the scottish play is my favorite shakespeare i do not know what i do know is that a certain rev bowdler hence bowdlerization tried to do something similar in the victorian erabr br in other words you can not improve perfectionbr br i have no more to write but as i have to write at least ten lines of text and english composition was never my forte i will just have to keep going and say that this movie as the saying goes just does not cut it',\n",
       " 'this a fantastic movie of three prisoners who become famous one of the actors is george clooney and i am not a fan but this roll is not bad another good thing about the movie is the soundtrack the man of constant sorrow i recommand this movie to everybody greetings bart',\n",
       " 'kind of drawn in by the erotic scenes only to realize this was one of the most amateurish and unbelievable bits of film i have ever seen sort of like a high school film project what was rosanna arquette thinking and what was with all those stock characters in that bizarre supposed midwest town pretty hard to get involved with this one no lessons to be learned from it no brilliant insights just stilted and quite ridiculous but lots of skin if that intrigues you videotaped nonsensewhat was with the bisexual relationship out of nowhere after all the heterosexual encounters and what was with that absurd dance with everybody playing their stereotyped roles give this one a pass it is like a million other miles of bad wasted film money that could have been spent on starving children or aids in africa',\n",
       " 'some films just simply should not be remade this is one of them in and of itself it is not a bad film but it fails to capture the flavor and the terror of the film of the same title liam neeson was excellent as he always is and most of the cast holds up with the exception of owen wilson who just did not bring the right feel to the character of luke but the major fault with this version is that it strayed too far from the shirley jackson story in it is attempts to be grandiose and lost some of the thrill of the earlier film in a trade off for snazzier special effects again i will say that in and of itself it is not a bad film but you will enjoy the friction of terror in the older version much more',\n",
       " 'this movie made it into one of my top most awful movies horrible br br there was nt a continuous minute where there was nt a fight with one monster or another there was no chance for any character development they were too busy running from one sword fight to another i had no emotional attachment except to the big bad machine that wanted to destroy them br br scenes were blatantly stolen from other movies lotr star wars and matrix br br examplesbr br the ghost scene at the end was stolen from the final scene of the old star wars with yoda obee one and vader br br the spider machine in the beginning was exactly like frodo being attacked by the spider in return of the kings elijah wood is the victim in both films and waitit hypnotizes stings its victim and wraps them upuh hellobr br and the whole machine vs humans theme was the matrixor terminatorbr br there are more examples but why waste the time and will someone tell me what was with the nazi s nazi s br br there was a juvenile story line rushed to a juvenile conclusion the movie could not decide if it was a children s movie or an adult movie and was nt much of either br br just awful a real disappointment to say the least save your money',\n",
       " 'i remember this filmit was the first film i had watched at the cinema the picture was dark in places i was very nervous it was back in my dad took me my brother sister to newbury cinema in newbury berkshire england i recall the tigers and the lots of snow in the film also the appearance of grizzly adams actor dan haggery i think one of the tigers gets shot and dies if anyone knows where to find this on dvd etc please let me knowthe cinema now has been turned in a fitness club which is a very big shame as the nearest cinema now is miles away would love to hear from others who have seen this film or any other like it',\n",
       " 'an awful film it must have been up against some real stinkers to be nominated for the golden globe they have taken the story of the first famous female renaissance painter and mangled it beyond recognition my complaint is not that they have taken liberties with the facts if the story were good that would perfectly fine but it is simply bizarre by all accounts the true story of this artist would have made for a far better film so why did they come up with this dishwaterdull script i suppose there were nt enough naked people in the factual version it is hurriedly capped off in the end with a summary of the artist s life we could have saved ourselves a couple of hours if they would favored the rest of the film with same brevity']"
      ]
     },
     "execution_count": 116,
     "metadata": {},
     "output_type": "execute_result"
    }
   ],
   "source": [
    "def clean_text(df):\n",
    "    all_reviews = list()\n",
    "    lines = df[\"review\"].values.tolist()\n",
    "    for text in lines:\n",
    "        #coverts all the characters in text to lower case\n",
    "        text = text.lower()\n",
    "        \n",
    "        pattern = re.compile('http[s]?://(?:[a-zA-Z]|[0-9]|[$-_@.&+]|[!*\\(\\),]|(?:%[0-9a-fA-F][0-9a-fA-F]))+')\n",
    "        text = pattern.sub('', text)\n",
    "        \n",
    "        emoji = re.compile(\"[\"\n",
    "                           u\"\\U0001F600-\\U0001FFFF\"  # emoticons\n",
    "                           u\"\\U0001F300-\\U0001F5FF\"  # symbols and pictographs\n",
    "                           u\"\\U0001F680-\\U0001F6FF\"  # transport and map symbols\n",
    "                           u\"\\U0001F1E0-\\U0001F1FF\"  # flags \n",
    "                           u\"\\U00002702-\\U000027B0\"\n",
    "                           u\"\\U000024C2-\\U0001F251\"\n",
    "                           \"]+\", flags=re.UNICODE)\n",
    "        text = emoji.sub(r'', text)\n",
    "        #Clean text by removing unnecessary characters and altering the format of words.\n",
    "        text = re.sub(r\"i'm\", \"i am\", text)\n",
    "        text = re.sub(r\"he's\", \"he is\", text)\n",
    "        text = re.sub(r\"she's\", \"she is\", text)\n",
    "        text = re.sub(r\"that's\", \"that is\", text)        \n",
    "        text = re.sub(r\"what's\", \"what is\", text)\n",
    "        text = re.sub(r\"where's\", \"where is\", text) \n",
    "        text = re.sub(r\"\\'ll\", \" will\", text)  \n",
    "        text = re.sub(r\"\\'ve\", \" have\", text)  \n",
    "        text = re.sub(r\"\\'re\", \" are\", text)\n",
    "        text = re.sub(r\"\\'d\", \" would\", text)\n",
    "        text = re.sub(r\"\\'ve\", \" have\", text)\n",
    "        text = re.sub(r\"won't\", \"will not\", text)\n",
    "        text = re.sub(r\"don't\", \"do not\", text)\n",
    "        text = re.sub(r\"did't\", \"did not\", text)\n",
    "        text = re.sub(r\"can't\", \"can not\", text)\n",
    "        text = re.sub(r\"it's\", \"it is\", text)\n",
    "        text = re.sub(r\"couldn't\", \"could not\", text)\n",
    "        text = re.sub(r\"have't\", \"have not\", text)\n",
    "        \n",
    "        text = re.sub(r\"[,.\\\"!@#$%^&*(){}?/;`~:<>+=-]\", \"\", text)\n",
    "        tokens = word_tokenize(text)\n",
    "        #str.maketrans builds a translation table, which is a mapping of integers or characters to integers, strings\n",
    "        table = str.maketrans('', '', string.punctuation)\n",
    "        stripped = [w.translate(table) for w in tokens]\n",
    "        words = [word for word in stripped if word.isalpha()]\n",
    "        words = ' '.join(words)\n",
    "        all_reviews.append(words)\n",
    "    return all_reviews\n",
    "\n",
    "all_reviews = clean_text(df)\n",
    "all_reviews[0:20]"
   ]
  },
  {
   "cell_type": "code",
   "execution_count": 117,
   "metadata": {},
   "outputs": [],
   "source": [
    "df = pd.DataFrame(all_reviews)"
   ]
  },
  {
   "cell_type": "code",
   "execution_count": 118,
   "metadata": {},
   "outputs": [],
   "source": [
    "df['sentiment'] = dats"
   ]
  },
  {
   "cell_type": "code",
   "execution_count": 119,
   "metadata": {},
   "outputs": [
    {
     "data": {
      "text/html": [
       "<div>\n",
       "<style scoped>\n",
       "    .dataframe tbody tr th:only-of-type {\n",
       "        vertical-align: middle;\n",
       "    }\n",
       "\n",
       "    .dataframe tbody tr th {\n",
       "        vertical-align: top;\n",
       "    }\n",
       "\n",
       "    .dataframe thead th {\n",
       "        text-align: right;\n",
       "    }\n",
       "</style>\n",
       "<table border=\"1\" class=\"dataframe\">\n",
       "  <thead>\n",
       "    <tr style=\"text-align: right;\">\n",
       "      <th></th>\n",
       "      <th>0</th>\n",
       "      <th>sentiment</th>\n",
       "    </tr>\n",
       "  </thead>\n",
       "  <tbody>\n",
       "    <tr>\n",
       "      <th>0</th>\n",
       "      <td>one of the other reviewers has mentioned that ...</td>\n",
       "      <td>positive</td>\n",
       "    </tr>\n",
       "    <tr>\n",
       "      <th>1</th>\n",
       "      <td>a wonderful little production br br the filmin...</td>\n",
       "      <td>positive</td>\n",
       "    </tr>\n",
       "    <tr>\n",
       "      <th>2</th>\n",
       "      <td>i thought this was a wonderful way to spend ti...</td>\n",
       "      <td>positive</td>\n",
       "    </tr>\n",
       "    <tr>\n",
       "      <th>3</th>\n",
       "      <td>basically there s a family where a little boy ...</td>\n",
       "      <td>negative</td>\n",
       "    </tr>\n",
       "    <tr>\n",
       "      <th>4</th>\n",
       "      <td>petter mattei s love in the time of money is a...</td>\n",
       "      <td>positive</td>\n",
       "    </tr>\n",
       "    <tr>\n",
       "      <th>...</th>\n",
       "      <td>...</td>\n",
       "      <td>...</td>\n",
       "    </tr>\n",
       "    <tr>\n",
       "      <th>49995</th>\n",
       "      <td>i thought this movie did a down right good job...</td>\n",
       "      <td>positive</td>\n",
       "    </tr>\n",
       "    <tr>\n",
       "      <th>49996</th>\n",
       "      <td>bad plot bad dialogue bad acting idiotic direc...</td>\n",
       "      <td>negative</td>\n",
       "    </tr>\n",
       "    <tr>\n",
       "      <th>49997</th>\n",
       "      <td>i am a catholic taught in parochial elementary...</td>\n",
       "      <td>negative</td>\n",
       "    </tr>\n",
       "    <tr>\n",
       "      <th>49998</th>\n",
       "      <td>i am going to have to disagree with the previo...</td>\n",
       "      <td>negative</td>\n",
       "    </tr>\n",
       "    <tr>\n",
       "      <th>49999</th>\n",
       "      <td>no one expects the star trek movies to be high...</td>\n",
       "      <td>negative</td>\n",
       "    </tr>\n",
       "  </tbody>\n",
       "</table>\n",
       "<p>50000 rows × 2 columns</p>\n",
       "</div>"
      ],
      "text/plain": [
       "                                                       0 sentiment\n",
       "0      one of the other reviewers has mentioned that ...  positive\n",
       "1      a wonderful little production br br the filmin...  positive\n",
       "2      i thought this was a wonderful way to spend ti...  positive\n",
       "3      basically there s a family where a little boy ...  negative\n",
       "4      petter mattei s love in the time of money is a...  positive\n",
       "...                                                  ...       ...\n",
       "49995  i thought this movie did a down right good job...  positive\n",
       "49996  bad plot bad dialogue bad acting idiotic direc...  negative\n",
       "49997  i am a catholic taught in parochial elementary...  negative\n",
       "49998  i am going to have to disagree with the previo...  negative\n",
       "49999  no one expects the star trek movies to be high...  negative\n",
       "\n",
       "[50000 rows x 2 columns]"
      ]
     },
     "execution_count": 119,
     "metadata": {},
     "output_type": "execute_result"
    }
   ],
   "source": [
    "df"
   ]
  },
  {
   "cell_type": "code",
   "execution_count": 120,
   "metadata": {},
   "outputs": [],
   "source": [
    "df.columns = ['review', 'sentiment']"
   ]
  },
  {
   "cell_type": "code",
   "execution_count": 121,
   "metadata": {},
   "outputs": [
    {
     "data": {
      "text/html": [
       "<div>\n",
       "<style scoped>\n",
       "    .dataframe tbody tr th:only-of-type {\n",
       "        vertical-align: middle;\n",
       "    }\n",
       "\n",
       "    .dataframe tbody tr th {\n",
       "        vertical-align: top;\n",
       "    }\n",
       "\n",
       "    .dataframe thead th {\n",
       "        text-align: right;\n",
       "    }\n",
       "</style>\n",
       "<table border=\"1\" class=\"dataframe\">\n",
       "  <thead>\n",
       "    <tr style=\"text-align: right;\">\n",
       "      <th></th>\n",
       "      <th>review</th>\n",
       "      <th>sentiment</th>\n",
       "    </tr>\n",
       "  </thead>\n",
       "  <tbody>\n",
       "    <tr>\n",
       "      <th>0</th>\n",
       "      <td>one of the other reviewers has mentioned that ...</td>\n",
       "      <td>positive</td>\n",
       "    </tr>\n",
       "    <tr>\n",
       "      <th>1</th>\n",
       "      <td>a wonderful little production br br the filmin...</td>\n",
       "      <td>positive</td>\n",
       "    </tr>\n",
       "    <tr>\n",
       "      <th>2</th>\n",
       "      <td>i thought this was a wonderful way to spend ti...</td>\n",
       "      <td>positive</td>\n",
       "    </tr>\n",
       "    <tr>\n",
       "      <th>3</th>\n",
       "      <td>basically there s a family where a little boy ...</td>\n",
       "      <td>negative</td>\n",
       "    </tr>\n",
       "    <tr>\n",
       "      <th>4</th>\n",
       "      <td>petter mattei s love in the time of money is a...</td>\n",
       "      <td>positive</td>\n",
       "    </tr>\n",
       "    <tr>\n",
       "      <th>...</th>\n",
       "      <td>...</td>\n",
       "      <td>...</td>\n",
       "    </tr>\n",
       "    <tr>\n",
       "      <th>49995</th>\n",
       "      <td>i thought this movie did a down right good job...</td>\n",
       "      <td>positive</td>\n",
       "    </tr>\n",
       "    <tr>\n",
       "      <th>49996</th>\n",
       "      <td>bad plot bad dialogue bad acting idiotic direc...</td>\n",
       "      <td>negative</td>\n",
       "    </tr>\n",
       "    <tr>\n",
       "      <th>49997</th>\n",
       "      <td>i am a catholic taught in parochial elementary...</td>\n",
       "      <td>negative</td>\n",
       "    </tr>\n",
       "    <tr>\n",
       "      <th>49998</th>\n",
       "      <td>i am going to have to disagree with the previo...</td>\n",
       "      <td>negative</td>\n",
       "    </tr>\n",
       "    <tr>\n",
       "      <th>49999</th>\n",
       "      <td>no one expects the star trek movies to be high...</td>\n",
       "      <td>negative</td>\n",
       "    </tr>\n",
       "  </tbody>\n",
       "</table>\n",
       "<p>50000 rows × 2 columns</p>\n",
       "</div>"
      ],
      "text/plain": [
       "                                                  review sentiment\n",
       "0      one of the other reviewers has mentioned that ...  positive\n",
       "1      a wonderful little production br br the filmin...  positive\n",
       "2      i thought this was a wonderful way to spend ti...  positive\n",
       "3      basically there s a family where a little boy ...  negative\n",
       "4      petter mattei s love in the time of money is a...  positive\n",
       "...                                                  ...       ...\n",
       "49995  i thought this movie did a down right good job...  positive\n",
       "49996  bad plot bad dialogue bad acting idiotic direc...  negative\n",
       "49997  i am a catholic taught in parochial elementary...  negative\n",
       "49998  i am going to have to disagree with the previo...  negative\n",
       "49999  no one expects the star trek movies to be high...  negative\n",
       "\n",
       "[50000 rows x 2 columns]"
      ]
     },
     "execution_count": 121,
     "metadata": {},
     "output_type": "execute_result"
    }
   ],
   "source": [
    "df"
   ]
  },
  {
   "cell_type": "markdown",
   "metadata": {
    "_cell_guid": "7a69f136-5ab6-48c9-b440-8abf3b956f12",
    "_uuid": "87dae56c-66fc-4053-9981-ed1fbbc17c9a"
   },
   "source": [
    "### Splitting to train and test data"
   ]
  },
  {
   "cell_type": "code",
   "execution_count": 122,
   "metadata": {
    "_cell_guid": "e7f70966-c174-4bbb-9775-c508dc67e200",
    "_uuid": "83582e39-1585-49e8-a48d-4dee9d203705",
    "execution": {
     "iopub.execute_input": "2021-08-18T14:13:46.468436Z",
     "iopub.status.busy": "2021-08-18T14:13:46.466769Z",
     "iopub.status.idle": "2021-08-18T14:13:46.524295Z",
     "shell.execute_reply": "2021-08-18T14:13:46.523514Z",
     "shell.execute_reply.started": "2021-08-18T14:13:46.468394Z"
    },
    "jupyter": {
     "outputs_hidden": false
    }
   },
   "outputs": [
    {
     "name": "stdout",
     "output_type": "stream",
     "text": [
      "shape of train data is (40000,)\n",
      "shape of test data is (10000,)\n"
     ]
    }
   ],
   "source": [
    "X,y = df['review'].values,df['sentiment'].values\n",
    "#stratify=y\n",
    "x_train,x_test,y_train,y_test = train_test_split(X,y,test_size=0.2)\n",
    "print(f'shape of train data is {x_train.shape}')\n",
    "print(f'shape of test data is {x_test.shape}')"
   ]
  },
  {
   "cell_type": "markdown",
   "metadata": {
    "_cell_guid": "ce4e13af-8849-40a9-83a4-65ebb0ed3c26",
    "_uuid": "92976ec5-6fe8-4c85-bac0-e7ca62983c46"
   },
   "source": [
    "### EDA"
   ]
  },
  {
   "cell_type": "code",
   "execution_count": 123,
   "metadata": {
    "execution": {
     "iopub.execute_input": "2021-08-18T14:13:46.531414Z",
     "iopub.status.busy": "2021-08-18T14:13:46.528615Z",
     "iopub.status.idle": "2021-08-18T14:13:46.541343Z",
     "shell.execute_reply": "2021-08-18T14:13:46.540379Z",
     "shell.execute_reply.started": "2021-08-18T14:13:46.531371Z"
    }
   },
   "outputs": [],
   "source": [
    "def preprocess_string(review):\n",
    "    \"\"\"\n",
    "    we tried to run the model with/without the removing of the html tags and urls. \n",
    "    the accruacy without removing them was better.with removing them the val_accrucay was 50%. \n",
    "    \n",
    "    #Removing HTML tag from review\n",
    "    \n",
    "    clean = re.compile('<.*?>')\n",
    "    review_without_tag = re.sub(clean, '', review) \n",
    "    \n",
    "    \n",
    "   \n",
    "    #Removing URLs\n",
    "    \n",
    "    review_without_tag_and_url = re.sub(r\"http\\S+\", \"\", review_without_tag)\n",
    "    \n",
    "    review_without_tag_and_url = re.sub(r\"www\\S+\", \"\", review_without_tag)\n",
    "    \"\"\"   \n",
    "    # Remove all non-word characters (everything except numbers and letters)\n",
    "    review = re.sub(r\"[^\\w\\s]\", '', review)\n",
    "    # Replace all runs of whitespaces with no space\n",
    "    review = re.sub(r\"\\s+\", '', review)\n",
    "    # replace digits with no space\n",
    "    review = re.sub(r\"\\d\", '', review)\n",
    "    return review\n",
    "\n",
    "def clean_text(review):\n",
    "    lowercase = review.lower().replace('\\n', ' ')\n",
    "    stripped_html = re.sub('<br />', ' ', lowercase)\n",
    "    cleaned_punctuation = re.sub('[%s]'%re.escape(string.punctuation), '', stripped_html)\n",
    "    return cleaned_punctuation\n"
   ]
  },
  {
   "cell_type": "code",
   "execution_count": 124,
   "metadata": {
    "execution": {
     "iopub.execute_input": "2021-08-18T14:13:46.548895Z",
     "iopub.status.busy": "2021-08-18T14:13:46.546147Z",
     "iopub.status.idle": "2021-08-18T14:13:52.968650Z",
     "shell.execute_reply": "2021-08-18T14:13:52.966225Z",
     "shell.execute_reply.started": "2021-08-18T14:13:46.548853Z"
    }
   },
   "outputs": [
    {
     "data": {
      "text/html": [
       "<div>\n",
       "<style scoped>\n",
       "    .dataframe tbody tr th:only-of-type {\n",
       "        vertical-align: middle;\n",
       "    }\n",
       "\n",
       "    .dataframe tbody tr th {\n",
       "        vertical-align: top;\n",
       "    }\n",
       "\n",
       "    .dataframe thead th {\n",
       "        text-align: right;\n",
       "    }\n",
       "</style>\n",
       "<table border=\"1\" class=\"dataframe\">\n",
       "  <thead>\n",
       "    <tr style=\"text-align: right;\">\n",
       "      <th></th>\n",
       "      <th>count</th>\n",
       "      <th>word_id</th>\n",
       "    </tr>\n",
       "  </thead>\n",
       "  <tbody>\n",
       "    <tr>\n",
       "      <th>the</th>\n",
       "      <td>663832</td>\n",
       "      <td>2</td>\n",
       "    </tr>\n",
       "    <tr>\n",
       "      <th>and</th>\n",
       "      <td>320666</td>\n",
       "      <td>3</td>\n",
       "    </tr>\n",
       "    <tr>\n",
       "      <th>a</th>\n",
       "      <td>320543</td>\n",
       "      <td>4</td>\n",
       "    </tr>\n",
       "    <tr>\n",
       "      <th>of</th>\n",
       "      <td>288382</td>\n",
       "      <td>5</td>\n",
       "    </tr>\n",
       "    <tr>\n",
       "      <th>is</th>\n",
       "      <td>266892</td>\n",
       "      <td>6</td>\n",
       "    </tr>\n",
       "    <tr>\n",
       "      <th>to</th>\n",
       "      <td>266789</td>\n",
       "      <td>7</td>\n",
       "    </tr>\n",
       "    <tr>\n",
       "      <th>it</th>\n",
       "      <td>186209</td>\n",
       "      <td>8</td>\n",
       "    </tr>\n",
       "    <tr>\n",
       "      <th>in</th>\n",
       "      <td>184863</td>\n",
       "      <td>9</td>\n",
       "    </tr>\n",
       "    <tr>\n",
       "      <th>i</th>\n",
       "      <td>172413</td>\n",
       "      <td>10</td>\n",
       "    </tr>\n",
       "    <tr>\n",
       "      <th>this</th>\n",
       "      <td>149416</td>\n",
       "      <td>11</td>\n",
       "    </tr>\n",
       "  </tbody>\n",
       "</table>\n",
       "</div>"
      ],
      "text/plain": [
       "       count  word_id\n",
       "the   663832        2\n",
       "and   320666        3\n",
       "a     320543        4\n",
       "of    288382        5\n",
       "is    266892        6\n",
       "to    266789        7\n",
       "it    186209        8\n",
       "in    184863        9\n",
       "i     172413       10\n",
       "this  149416       11"
      ]
     },
     "execution_count": 124,
     "metadata": {},
     "output_type": "execute_result"
    }
   ],
   "source": [
    "MAX_WORDS = 10000   \n",
    "MAX_LEN = 200\n",
    "word_count_dict = {}\n",
    "\n",
    "for review in df['review'].values:\n",
    "    cleaned_text = clean_text(review)\n",
    "    for word in cleaned_text.split(' '):\n",
    "        word_count_dict[word] = word_count_dict.get(word, 0) + 1\n",
    "            \n",
    "df_word_dict = pd.DataFrame(pd.Series(word_count_dict, name='count'))\n",
    "df_word_dict = df_word_dict.sort_values(by='count', ascending=False)\n",
    "\n",
    "df_word_dict = df_word_dict[:MAX_WORDS-2]     # 总共取前max_words-2个词\n",
    "df_word_dict['word_id'] = range(2, MAX_WORDS)\n",
    "\n",
    "word_id_dict = df_word_dict['word_id'].to_dict()\n",
    "\n",
    "word_id_dict['<unknown>'] = 0\n",
    "word_id_dict['<padding>'] = 1\n",
    "\n",
    "df_word_dict.head(10)"
   ]
  },
  {
   "cell_type": "code",
   "execution_count": 125,
   "metadata": {
    "_cell_guid": "a1538d73-c80c-42c7-a8f9-02381aa538b0",
    "_uuid": "13513c7e-59fb-40e7-aaa5-6eca9dcc3151",
    "execution": {
     "iopub.execute_input": "2021-08-18T14:13:52.970401Z",
     "iopub.status.busy": "2021-08-18T14:13:52.970025Z",
     "iopub.status.idle": "2021-08-18T14:13:53.280947Z",
     "shell.execute_reply": "2021-08-18T14:13:53.279959Z",
     "shell.execute_reply.started": "2021-08-18T14:13:52.970364Z"
    },
    "jupyter": {
     "outputs_hidden": false
    }
   },
   "outputs": [
    {
     "data": {
      "image/png": "[encoded data removed]",
      "text/plain": [
       "<Figure size 720x360 with 2 Axes>"
      ]
     },
     "metadata": {
      "needs_background": "light"
     },
     "output_type": "display_data"
    }
   ],
   "source": [
    "#Number of characters in reviews\n",
    "\n",
    "fig,(ax1,ax2)=plt.subplots(1,2,figsize=(10,5))\n",
    "review_len=df[df['sentiment']==\"positive\"]['review'].str.len()\n",
    "ax1.hist(review_len,color='blue')\n",
    "ax1.set_title('positive reviews')\n",
    "review_len=df[df['sentiment']==\"negative\"]['review'].str.len()\n",
    "ax2.hist(review_len,color='CRIMSON')\n",
    "ax2.set_title('negative reviews')\n",
    "fig.suptitle('Characters in reviews')\n",
    "plt.show()"
   ]
  },
  {
   "cell_type": "code",
   "execution_count": 126,
   "metadata": {
    "_cell_guid": "752de3e8-ea43-45b3-8914-3bf0dfbf1512",
    "_uuid": "22a4931e-4714-40d8-96bf-262c723332e0",
    "execution": {
     "iopub.execute_input": "2021-08-18T14:13:53.284477Z",
     "iopub.status.busy": "2021-08-18T14:13:53.284104Z",
     "iopub.status.idle": "2021-08-18T14:13:55.308917Z",
     "shell.execute_reply": "2021-08-18T14:13:55.308047Z",
     "shell.execute_reply.started": "2021-08-18T14:13:53.284440Z"
    },
    "jupyter": {
     "outputs_hidden": false
    }
   },
   "outputs": [
    {
     "data": {
      "image/png": "[encoded data removed]",
      "text/plain": [
       "<Figure size 720x360 with 2 Axes>"
      ]
     },
     "metadata": {
      "needs_background": "light"
     },
     "output_type": "display_data"
    }
   ],
   "source": [
    "#Number of words in reviews\n",
    "fig,(ax1,ax2)=plt.subplots(1,2,figsize=(10,5))\n",
    "review_len=df[df['sentiment']==\"positive\"]['review'].str.split().map(lambda x: len(x))\n",
    "ax1.hist(review_len,color='blue')\n",
    "ax1.set_title('positive reviews')\n",
    "review_len=df[df['sentiment']==\"negative\"]['review'].str.split().map(lambda x: len(x))\n",
    "ax2.hist(review_len,color='CRIMSON')\n",
    "ax2.set_title('negative reviews')\n",
    "fig.suptitle('Words in reviews')\n",
    "plt.show()"
   ]
  },
  {
   "cell_type": "code",
   "execution_count": 127,
   "metadata": {
    "_cell_guid": "e5cf2150-0fa0-4990-8549-b79b933885eb",
    "_uuid": "20bafbdb-4cc7-458e-8453-b15d88f1741f",
    "execution": {
     "iopub.execute_input": "2021-08-18T14:13:55.311502Z",
     "iopub.status.busy": "2021-08-18T14:13:55.310974Z",
     "iopub.status.idle": "2021-08-18T14:14:01.787025Z",
     "shell.execute_reply": "2021-08-18T14:14:01.786076Z",
     "shell.execute_reply.started": "2021-08-18T14:13:55.311459Z"
    },
    "jupyter": {
     "outputs_hidden": false
    }
   },
   "outputs": [
    {
     "name": "stderr",
     "output_type": "stream",
     "text": [
      "C:\\Users\\92303\\Anaconda3\\lib\\site-packages\\seaborn\\distributions.py:2557: FutureWarning: `distplot` is a deprecated function and will be removed in a future version. Please adapt your code to use either `displot` (a figure-level function with similar flexibility) or `histplot` (an axes-level function for histograms).\n",
      "  warnings.warn(msg, FutureWarning)\n",
      "C:\\Users\\92303\\Anaconda3\\lib\\site-packages\\seaborn\\distributions.py:2557: FutureWarning: `distplot` is a deprecated function and will be removed in a future version. Please adapt your code to use either `displot` (a figure-level function with similar flexibility) or `histplot` (an axes-level function for histograms).\n",
      "  warnings.warn(msg, FutureWarning)\n"
     ]
    },
    {
     "data": {
      "text/plain": [
       "Text(0.5, 0.98, 'Average word length in each review')"
      ]
     },
     "execution_count": 127,
     "metadata": {},
     "output_type": "execute_result"
    },
    {
     "data": {
      "image/png": "[encoded data removed]",
      "text/plain": [
       "<Figure size 720x360 with 2 Axes>"
      ]
     },
     "metadata": {
      "needs_background": "light"
     },
     "output_type": "display_data"
    }
   ],
   "source": [
    "#Average word length in a review\n",
    "fig,(ax1,ax2)=plt.subplots(1,2,figsize=(10,5))\n",
    "word=df[df['sentiment']==\"positive\"]['review'].str.split().apply(lambda x : [len(i) for i in x])\n",
    "sns.distplot(word.map(lambda x: np.mean(x)),ax=ax1,color='red')\n",
    "ax1.set_title('disaster')\n",
    "word=df[df['sentiment']==\"negative\"]['review'].str.split().apply(lambda x : [len(i) for i in x])\n",
    "sns.distplot(word.map(lambda x: np.mean(x)),ax=ax2,color='green')\n",
    "ax2.set_title('Not disaster')\n",
    "fig.suptitle('Average word length in each review')"
   ]
  },
  {
   "cell_type": "code",
   "execution_count": 128,
   "metadata": {
    "_cell_guid": "ebdfe745-2381-4883-9005-b6ec16ff35d0",
    "_uuid": "e36abb08-ff8f-4a99-8503-ea24a4bacb0d",
    "execution": {
     "iopub.execute_input": "2021-08-18T14:14:01.788930Z",
     "iopub.status.busy": "2021-08-18T14:14:01.788426Z",
     "iopub.status.idle": "2021-08-18T14:14:01.901169Z",
     "shell.execute_reply": "2021-08-18T14:14:01.900234Z",
     "shell.execute_reply.started": "2021-08-18T14:14:01.788889Z"
    },
    "jupyter": {
     "outputs_hidden": false
    }
   },
   "outputs": [
    {
     "data": {
      "image/png": "[encoded data removed]",
      "text/plain": [
       "<Figure size 432x288 with 1 Axes>"
      ]
     },
     "metadata": {
      "needs_background": "light"
     },
     "output_type": "display_data"
    }
   ],
   "source": [
    "dd = pd.Series(y_train).value_counts()\n",
    "sns.barplot(x=np.array(['negative','positive']),y=dd.values)\n",
    "plt.show()"
   ]
  },
  {
   "cell_type": "markdown",
   "metadata": {
    "_cell_guid": "e9f35f9d-66e4-4ae6-bd8e-81ec76c2a1db",
    "_uuid": "15eabcd9-b860-45b9-9d66-96d685065fc0"
   },
   "source": [
    "### Tockenization"
   ]
  },
  {
   "cell_type": "code",
   "execution_count": 129,
   "metadata": {
    "_cell_guid": "57c00328-8a1e-48fc-a685-a2635090186c",
    "_uuid": "05dd65b2-7f4c-43f3-9835-72b01fb4bbcf",
    "execution": {
     "iopub.execute_input": "2021-08-18T14:14:01.902886Z",
     "iopub.status.busy": "2021-08-18T14:14:01.902533Z",
     "iopub.status.idle": "2021-08-18T14:14:01.913863Z",
     "shell.execute_reply": "2021-08-18T14:14:01.912908Z",
     "shell.execute_reply.started": "2021-08-18T14:14:01.902850Z"
    },
    "jupyter": {
     "outputs_hidden": false
    }
   },
   "outputs": [],
   "source": [
    "def tockenize(x_train,y_train,x_val,y_val):\n",
    "    word_list = []\n",
    "\n",
    "    stop_words = set(stopwords.words('english')) \n",
    "    for sent in x_train:\n",
    "        for word in sent.lower().split():\n",
    "            word = preprocess_string(word)\n",
    "            if word not in stop_words and word != '':\n",
    "                word_list.append(word)\n",
    "  \n",
    "    corpus = Counter(word_list)\n",
    "    # sorting on the basis of most common words\n",
    "    corpus_ = sorted(corpus,key=corpus.get,reverse=True)[:1000]\n",
    "    # creating a dict\n",
    "    onehot_dict = {w:i+1 for i,w in enumerate(corpus_)}\n",
    "    \n",
    "    # tockenize\n",
    "    final_list_train,final_list_test = [],[]\n",
    "    for sent in x_train:\n",
    "            final_list_train.append([onehot_dict[preprocess_string(word)] for word in sent.lower().split() \n",
    "                                     if preprocess_string(word) in onehot_dict.keys()])\n",
    "    for sent in x_val:\n",
    "            final_list_test.append([onehot_dict[preprocess_string(word)] for word in sent.lower().split() \n",
    "                                    if preprocess_string(word) in onehot_dict.keys()])\n",
    "            \n",
    "    encoded_train = [1 if label =='positive' else 0 for label in y_train]  \n",
    "    encoded_test = [1 if label =='positive' else 0 for label in y_val] \n",
    "    return np.array(final_list_train), np.array(encoded_train),np.array(final_list_test), np.array(encoded_test),onehot_dict"
   ]
  },
  {
   "cell_type": "markdown",
   "metadata": {
    "_cell_guid": "0cbfe1ac-fba7-4b07-8de5-f181e15eafbc",
    "_uuid": "03aa878c-676d-4d60-b91b-36318569b3a4"
   },
   "source": [
    "*we can use this line of code in the cnn part !"
   ]
  },
  {
   "cell_type": "code",
   "execution_count": 130,
   "metadata": {
    "_cell_guid": "3671a85e-7489-4b5c-82ac-c2bee6c6758f",
    "_uuid": "92ce0e9d-0046-4ddb-b1c8-1f5312a5f399",
    "execution": {
     "iopub.execute_input": "2021-08-18T14:14:01.915590Z",
     "iopub.status.busy": "2021-08-18T14:14:01.915233Z",
     "iopub.status.idle": "2021-08-18T14:15:47.824003Z",
     "shell.execute_reply": "2021-08-18T14:15:47.823140Z",
     "shell.execute_reply.started": "2021-08-18T14:14:01.915553Z"
    },
    "jupyter": {
     "outputs_hidden": false
    }
   },
   "outputs": [
    {
     "name": "stderr",
     "output_type": "stream",
     "text": [
      "<ipython-input-129-2c51ff4dadc1>:28: VisibleDeprecationWarning: Creating an ndarray from ragged nested sequences (which is a list-or-tuple of lists-or-tuples-or ndarrays with different lengths or shapes) is deprecated. If you meant to do this, you must specify 'dtype=object' when creating the ndarray.\n",
      "  return np.array(final_list_train), np.array(encoded_train),np.array(final_list_test), np.array(encoded_test),onehot_dict\n"
     ]
    }
   ],
   "source": [
    "x_train,y_train,x_test,y_test,vocab = tockenize(x_train,y_train,x_test,y_test)"
   ]
  },
  {
   "cell_type": "code",
   "execution_count": 131,
   "metadata": {
    "_cell_guid": "cb9ea649-7b3d-4447-8fff-a79ed7b66e0d",
    "_uuid": "c264664c-ac5b-4da1-a0fd-bdd4bb88e9fe",
    "execution": {
     "iopub.execute_input": "2021-08-18T14:15:47.825643Z",
     "iopub.status.busy": "2021-08-18T14:15:47.825309Z",
     "iopub.status.idle": "2021-08-18T14:15:47.830624Z",
     "shell.execute_reply": "2021-08-18T14:15:47.829573Z",
     "shell.execute_reply.started": "2021-08-18T14:15:47.825612Z"
    },
    "jupyter": {
     "outputs_hidden": false
    }
   },
   "outputs": [
    {
     "name": "stdout",
     "output_type": "stream",
     "text": [
      "Length of vocabulary is 1000\n"
     ]
    }
   ],
   "source": [
    "print(f'Length of vocabulary is {len(vocab)}')"
   ]
  },
  {
   "cell_type": "markdown",
   "metadata": {
    "_cell_guid": "850c487d-334c-4dd3-ae6b-dc632e954e1e",
    "_uuid": "9fcd20db-254b-4730-a78e-fc53ba2a8dba"
   },
   "source": [
    "### Analysing review length"
   ]
  },
  {
   "cell_type": "code",
   "execution_count": 132,
   "metadata": {
    "_cell_guid": "715d2f64-252a-4892-99c3-ae3a91936508",
    "_uuid": "7e663f7e-9b50-4049-a159-f4e7280871ab",
    "execution": {
     "iopub.execute_input": "2021-08-18T14:15:47.832659Z",
     "iopub.status.busy": "2021-08-18T14:15:47.832014Z",
     "iopub.status.idle": "2021-08-18T14:15:48.013971Z",
     "shell.execute_reply": "2021-08-18T14:15:48.012996Z",
     "shell.execute_reply.started": "2021-08-18T14:15:47.832620Z"
    },
    "jupyter": {
     "outputs_hidden": false
    }
   },
   "outputs": [
    {
     "data": {
      "image/png": "[encoded data removed]",
      "text/plain": [
       "<Figure size 432x288 with 1 Axes>"
      ]
     },
     "metadata": {
      "needs_background": "light"
     },
     "output_type": "display_data"
    },
    {
     "data": {
      "text/plain": [
       "count    40000.000000\n",
       "mean        68.163725\n",
       "std         47.114109\n",
       "min          0.000000\n",
       "25%         39.000000\n",
       "50%         53.000000\n",
       "75%         83.000000\n",
       "max        649.000000\n",
       "dtype: float64"
      ]
     },
     "execution_count": 132,
     "metadata": {},
     "output_type": "execute_result"
    }
   ],
   "source": [
    "rev_len = [len(i) for i in x_train]\n",
    "pd.Series(rev_len).hist()\n",
    "plt.show()\n",
    "pd.Series(rev_len).describe()"
   ]
  },
  {
   "cell_type": "markdown",
   "metadata": {
    "_cell_guid": "1eca9099-7635-4bb2-a932-50b504e1f690",
    "_uuid": "b1844e40-a231-43c3-8651-c0f7b9dc43ef"
   },
   "source": [
    "# LSTM PART"
   ]
  },
  {
   "cell_type": "markdown",
   "metadata": {
    "_cell_guid": "8c899500-700f-418f-9299-6ec8b77f7df9",
    "_uuid": "ec6ff88e-f97f-4870-b64f-8fbca3c35213"
   },
   "source": [
    "### Padding"
   ]
  },
  {
   "cell_type": "markdown",
   "metadata": {
    "_cell_guid": "0d8aa4d2-fd66-4d10-8854-8b3f40b850fc",
    "_uuid": "a465c489-120a-40b9-9f5e-c0a4e9beea22"
   },
   "source": [
    "Padding each of the sequence to max length."
   ]
  },
  {
   "cell_type": "code",
   "execution_count": 133,
   "metadata": {
    "_cell_guid": "d740c40a-268d-44ca-b8a1-4ed411a29a18",
    "_uuid": "f828b2fe-b36b-4539-a76e-b2e3e4a610b3",
    "execution": {
     "iopub.execute_input": "2021-08-18T14:15:48.015789Z",
     "iopub.status.busy": "2021-08-18T14:15:48.015444Z",
     "iopub.status.idle": "2021-08-18T14:15:48.021812Z",
     "shell.execute_reply": "2021-08-18T14:15:48.020632Z",
     "shell.execute_reply.started": "2021-08-18T14:15:48.015754Z"
    },
    "jupyter": {
     "outputs_hidden": false
    }
   },
   "outputs": [],
   "source": [
    "def padding_(sentences, seq_len):\n",
    "    features = np.zeros((len(sentences), seq_len),dtype=int)\n",
    "    for ii, review in enumerate(sentences):\n",
    "        if len(review) != 0:\n",
    "            features[ii, -len(review):] = np.array(review)[:seq_len]\n",
    "    return features"
   ]
  },
  {
   "cell_type": "code",
   "execution_count": 134,
   "metadata": {
    "_cell_guid": "7ad39702-97a3-47dd-b668-f699d6a2646e",
    "_uuid": "f520d8b7-d9bd-41ec-9236-f51bf369c13e",
    "execution": {
     "iopub.execute_input": "2021-08-18T14:15:48.023667Z",
     "iopub.status.busy": "2021-08-18T14:15:48.023295Z",
     "iopub.status.idle": "2021-08-18T14:15:48.877188Z",
     "shell.execute_reply": "2021-08-18T14:15:48.876289Z",
     "shell.execute_reply.started": "2021-08-18T14:15:48.023631Z"
    },
    "jupyter": {
     "outputs_hidden": false
    }
   },
   "outputs": [],
   "source": [
    "#we have very less number of reviews with length > 500.\n",
    "#So we will consideronly those below it.\n",
    "x_train_pad = padding_(x_train,500)\n",
    "x_test_pad = padding_(x_test,500)"
   ]
  },
  {
   "cell_type": "markdown",
   "metadata": {
    "_cell_guid": "b5afa12c-ede2-4a3f-b7d6-00782bedeebc",
    "_uuid": "a3190df0-94b5-4027-8a96-16f1c9afe57a"
   },
   "source": [
    "### Batching and loading as tensor"
   ]
  },
  {
   "cell_type": "code",
   "execution_count": 135,
   "metadata": {
    "_cell_guid": "6b01d705-ed60-42bf-a516-0cada87e541a",
    "_uuid": "e10e0940-f6af-4fe2-9276-c423007d0c94",
    "execution": {
     "iopub.execute_input": "2021-08-18T14:15:48.878954Z",
     "iopub.status.busy": "2021-08-18T14:15:48.878423Z",
     "iopub.status.idle": "2021-08-18T14:15:48.886676Z",
     "shell.execute_reply": "2021-08-18T14:15:48.885729Z",
     "shell.execute_reply.started": "2021-08-18T14:15:48.878913Z"
    },
    "jupyter": {
     "outputs_hidden": false
    }
   },
   "outputs": [],
   "source": [
    "# create Tensor datasets\n",
    "train_data = TensorDataset(torch.from_numpy(x_train_pad), torch.from_numpy(y_train))\n",
    "valid_data = TensorDataset(torch.from_numpy(x_test_pad), torch.from_numpy(y_test))\n",
    "\n",
    "# dataloaders\n",
    "batch_size = 50\n",
    "\n",
    "# make sure to SHUFFLE your data\n",
    "train_loader = DataLoader(train_data, shuffle=True, batch_size=batch_size)\n",
    "valid_loader = DataLoader(valid_data, shuffle=True, batch_size=batch_size)"
   ]
  },
  {
   "cell_type": "code",
   "execution_count": 136,
   "metadata": {
    "_cell_guid": "6060fd89-469f-4b5d-bc4d-c644670e22b4",
    "_uuid": "d3ce5e58-c498-467e-82ac-6d4abf8e67ec",
    "execution": {
     "iopub.execute_input": "2021-08-18T14:15:48.888730Z",
     "iopub.status.busy": "2021-08-18T14:15:48.888209Z",
     "iopub.status.idle": "2021-08-18T14:15:48.914643Z",
     "shell.execute_reply": "2021-08-18T14:15:48.913847Z",
     "shell.execute_reply.started": "2021-08-18T14:15:48.888694Z"
    },
    "jupyter": {
     "outputs_hidden": false
    }
   },
   "outputs": [
    {
     "name": "stdout",
     "output_type": "stream",
     "text": [
      "Sample input size:  torch.Size([50, 500])\n",
      "Sample input: \n",
      " tensor([[  0,   0,   0,  ..., 317,  14, 242],\n",
      "        [  0,   0,   0,  ...,  58,  15,   3],\n",
      "        [  0,   0,   0,  ...,  94,   8,  97],\n",
      "        ...,\n",
      "        [  0,   0,   0,  ...,  16,  69, 318],\n",
      "        [  0,   0,   0,  ..., 122, 636,   5],\n",
      "        [  0,   0,   0,  ...,   9,   5,   1]], dtype=torch.int32)\n",
      "Sample input: \n",
      " tensor([0, 1, 0, 0, 0, 1, 0, 1, 1, 0, 0, 1, 0, 0, 1, 0, 0, 0, 1, 1, 0, 1, 1, 1,\n",
      "        1, 1, 0, 1, 1, 0, 0, 1, 1, 0, 0, 1, 1, 0, 0, 1, 0, 1, 0, 1, 1, 0, 1, 0,\n",
      "        0, 1], dtype=torch.int32)\n"
     ]
    }
   ],
   "source": [
    "# obtain one batch of training data\n",
    "dataiter = iter(train_loader)\n",
    "sample_x, sample_y = dataiter.next()\n",
    "\n",
    "print('Sample input size: ', sample_x.size()) # batch_size, seq_length\n",
    "print('Sample input: \\n', sample_x)\n",
    "print('Sample input: \\n', sample_y)"
   ]
  },
  {
   "cell_type": "markdown",
   "metadata": {
    "_cell_guid": "39ad424f-b3c3-4f57-a1aa-4c7f36ea83d8",
    "_uuid": "581524ac-3965-4ae6-8885-a68e9e827975"
   },
   "source": [
    "### Model"
   ]
  },
  {
   "cell_type": "code",
   "execution_count": 137,
   "metadata": {
    "_cell_guid": "7e873771-69e8-40e8-9077-7840df7aee45",
    "_uuid": "f38f903f-3b13-45fb-841e-d4674198b037",
    "execution": {
     "iopub.execute_input": "2021-08-18T14:15:48.916186Z",
     "iopub.status.busy": "2021-08-18T14:15:48.915835Z",
     "iopub.status.idle": "2021-08-18T14:15:48.927969Z",
     "shell.execute_reply": "2021-08-18T14:15:48.926762Z",
     "shell.execute_reply.started": "2021-08-18T14:15:48.916152Z"
    },
    "jupyter": {
     "outputs_hidden": false
    }
   },
   "outputs": [],
   "source": [
    "class Main_LSTM(nn.Module):\n",
    "    def __init__(self,no_layers,vocab_size,hidden_dim,embedding_dim,drop_prob=0.5):\n",
    "        super(Main_LSTM,self).__init__()\n",
    " \n",
    "        self.output_dim = output_dim\n",
    "        self.hidden_dim = hidden_dim\n",
    " \n",
    "        self.no_layers = no_layers\n",
    "        self.vocab_size = vocab_size\n",
    "    \n",
    "        # embedding and LSTM layers\n",
    "        self.embedding = nn.Embedding(vocab_size, embedding_dim)\n",
    "        \n",
    "        #lstm\n",
    "        self.lstm = nn.LSTM(input_size=embedding_dim,hidden_size=self.hidden_dim,\n",
    "                           num_layers=no_layers, batch_first=True)\n",
    "        \n",
    "        \n",
    "        # dropout layer\n",
    "        self.dropout = nn.Dropout(0.3)\n",
    "    \n",
    "        # linear and sigmoid layer\n",
    "        self.fc = nn.Linear(self.hidden_dim, output_dim)\n",
    "        self.sig = nn.Sigmoid()\n",
    "        \n",
    "    def forward(self,x,hidden):\n",
    "        batch_size = x.size(0)\n",
    "        # embeddings and lstm_out\n",
    "        embeds = self.embedding(x)  # shape: B x S x Feature   since batch = True\n",
    "        #print(embeds.shape)  #[50, 500, 1000]\n",
    "        lstm_out, hidden = self.lstm(embeds, hidden)\n",
    "        \n",
    "        lstm_out = lstm_out.contiguous().view(-1, self.hidden_dim) \n",
    "        \n",
    "        # dropout and fully connected layer\n",
    "        out = self.dropout(lstm_out)\n",
    "        out = self.fc(out)\n",
    "        \n",
    "        # sigmoid function\n",
    "        sig_out = self.sig(out)\n",
    "        \n",
    "        # reshape to be batch_size first\n",
    "        sig_out = sig_out.view(batch_size, -1)\n",
    "\n",
    "        sig_out = sig_out[:, -1] # get last batch of labels\n",
    "        \n",
    "        # return last sigmoid output and hidden state\n",
    "        return sig_out, hidden\n",
    "        \n",
    "        \n",
    "        \n",
    "    def init_hidden(self, batch_size):\n",
    "        ''' Initializes hidden state '''\n",
    "        # Create two new tensors with sizes n_layers x batch_size x hidden_dim,\n",
    "        # initialized to zero, for hidden state and cell state of LSTM\n",
    "        h0 = torch.zeros((self.no_layers,batch_size,self.hidden_dim)).to(device)\n",
    "        c0 = torch.zeros((self.no_layers,batch_size,self.hidden_dim)).to(device)\n",
    "        hidden = (h0,c0)\n",
    "        return hidden"
   ]
  },
  {
   "cell_type": "code",
   "execution_count": 138,
   "metadata": {
    "_cell_guid": "5854f5b8-3cc4-4e61-b6ff-5a7929378f40",
    "_uuid": "62319cd7-7e9f-4d79-bd24-86b0f86d56d2",
    "execution": {
     "iopub.execute_input": "2021-08-18T14:15:48.930091Z",
     "iopub.status.busy": "2021-08-18T14:15:48.929679Z",
     "iopub.status.idle": "2021-08-18T14:15:48.952660Z",
     "shell.execute_reply": "2021-08-18T14:15:48.951705Z",
     "shell.execute_reply.started": "2021-08-18T14:15:48.930046Z"
    },
    "jupyter": {
     "outputs_hidden": false
    }
   },
   "outputs": [
    {
     "name": "stdout",
     "output_type": "stream",
     "text": [
      "Main_LSTM(\n",
      "  (embedding): Embedding(1001, 64)\n",
      "  (lstm): LSTM(64, 256, num_layers=2, batch_first=True)\n",
      "  (dropout): Dropout(p=0.3, inplace=False)\n",
      "  (fc): Linear(in_features=256, out_features=1, bias=True)\n",
      "  (sig): Sigmoid()\n",
      ")\n"
     ]
    }
   ],
   "source": [
    "no_layers = 2\n",
    "vocab_size = len(vocab) + 1 #extra 1 for padding\n",
    "embedding_dim = 64\n",
    "output_dim = 1\n",
    "hidden_dim = 256\n",
    "\n",
    "\n",
    "model = Main_LSTM(no_layers,vocab_size,hidden_dim,embedding_dim,drop_prob=0.5)\n",
    "\n",
    "#moving to gpu\n",
    "model.to(device)\n",
    "\n",
    "print(model)"
   ]
  },
  {
   "cell_type": "markdown",
   "metadata": {
    "_cell_guid": "2092d13c-2faf-49bc-b08d-0ae5a6d23c9d",
    "_uuid": "1d5f4326-38a9-46d7-a4aa-d01abfed4af2"
   },
   "source": [
    "### Training"
   ]
  },
  {
   "cell_type": "code",
   "execution_count": 139,
   "metadata": {
    "_cell_guid": "2342babb-3e29-40d5-80de-945baf1cd8d2",
    "_uuid": "c23a56ae-f466-4e5e-8f75-5d930ee96753",
    "execution": {
     "iopub.execute_input": "2021-08-18T14:15:48.954417Z",
     "iopub.status.busy": "2021-08-18T14:15:48.954039Z",
     "iopub.status.idle": "2021-08-18T14:15:48.960844Z",
     "shell.execute_reply": "2021-08-18T14:15:48.959641Z",
     "shell.execute_reply.started": "2021-08-18T14:15:48.954383Z"
    },
    "jupyter": {
     "outputs_hidden": false
    }
   },
   "outputs": [],
   "source": [
    "# loss and optimization functions\n",
    "lr=0.001\n",
    "\n",
    "criterion = nn.BCELoss()\n",
    "\n",
    "optimizer = torch.optim.Adam(model.parameters(), lr=lr)\n",
    "\n",
    "# function to predict accuracy\n",
    "def acc(pred,label):\n",
    "    pred = torch.round(pred.squeeze())\n",
    "    return torch.sum(pred == label.squeeze()).item()"
   ]
  },
  {
   "cell_type": "code",
   "execution_count": null,
   "metadata": {
    "_cell_guid": "6eac8a5b-d2b2-40ce-ba4b-a6b157725fdf",
    "_uuid": "59f6fe6e-4b4f-4ebd-95a3-844cccb23639",
    "execution": {
     "iopub.execute_input": "2021-08-18T14:15:48.962910Z",
     "iopub.status.busy": "2021-08-18T14:15:48.962396Z",
     "iopub.status.idle": "2021-08-18T14:21:25.766818Z",
     "shell.execute_reply": "2021-08-18T14:21:25.765746Z",
     "shell.execute_reply.started": "2021-08-18T14:15:48.962873Z"
    },
    "jupyter": {
     "outputs_hidden": false
    }
   },
   "outputs": [],
   "source": [
    "clip = 5\n",
    "epochs = 5 \n",
    "valid_loss_min = np.Inf\n",
    "# train for some number of epochs\n",
    "epoch_tr_loss,epoch_vl_loss = [],[]\n",
    "epoch_tr_acc,epoch_vl_acc = [],[]\n",
    "\n",
    "for epoch in range(epochs):\n",
    "    train_losses = []\n",
    "    \n",
    "    train_acc = 0.0\n",
    "    model.train()\n",
    "    # initialize hidden state \n",
    "    h = model.init_hidden(batch_size)\n",
    "    for inputs, labels in train_loader:\n",
    "        \n",
    "        inputs, labels = inputs.to(device), labels.to(device)   \n",
    "        # Creating new variables for the hidden state, otherwise\n",
    "        # we'd backprop through the entire training history\n",
    "        h = tuple([each.data for each in h])\n",
    "        \n",
    "        model.zero_grad()\n",
    "        output,h = model(inputs,h)\n",
    "        \n",
    "        # calculate the loss and perform backprop\n",
    "        loss = criterion(output.squeeze(), labels.float())\n",
    "        loss.backward()\n",
    "        train_losses.append(loss.item())\n",
    "        # calculating accuracy\n",
    "        accuracy = acc(output,labels)\n",
    "        train_acc += accuracy\n",
    "        #`clip_grad_norm` helps prevent the exploding gradient problem in RNNs / LSTMs.\n",
    "        nn.utils.clip_grad_norm_(model.parameters(), clip)\n",
    "        optimizer.step()\n",
    " \n",
    "    \n",
    "        \n",
    "    val_h = model.init_hidden(batch_size)\n",
    "    val_losses = []\n",
    "    val_acc = 0.0\n",
    "    model.eval()\n",
    "    for inputs, labels in valid_loader:\n",
    "            val_h = tuple([each.data for each in val_h])\n",
    "\n",
    "            inputs, labels = inputs.to(device), labels.to(device)\n",
    "\n",
    "            output, val_h = model(inputs, val_h)\n",
    "            val_loss = criterion(output.squeeze(), labels.float())\n",
    "\n",
    "            val_losses.append(val_loss.item())\n",
    "            \n",
    "            accuracy = acc(output,labels)\n",
    "            val_acc += accuracy\n",
    "            \n",
    "    epoch_train_loss = np.mean(train_losses)\n",
    "    epoch_val_loss = np.mean(val_losses)\n",
    "    epoch_train_acc = train_acc/len(train_loader.dataset)\n",
    "    epoch_val_acc = val_acc/len(valid_loader.dataset)\n",
    "    epoch_tr_loss.append(epoch_train_loss)\n",
    "    epoch_vl_loss.append(epoch_val_loss)\n",
    "    epoch_tr_acc.append(epoch_train_acc)\n",
    "    epoch_vl_acc.append(epoch_val_acc)\n",
    "    print(f'Epoch {epoch+1}') \n",
    "    print(f'train_loss : {epoch_train_loss} val_loss : {epoch_val_loss}')\n",
    "    print(f'train_accuracy : {epoch_train_acc*100} val_accuracy : {epoch_val_acc*100}')\n",
    "    if epoch_val_loss <= valid_loss_min:\n",
    "        torch.save(model.state_dict(), '../working/state_dict.pt')\n",
    "        print('Validation loss decreased ({:.6f} --> {:.6f}).  Saving model ...'.format(valid_loss_min,epoch_val_loss))\n",
    "        valid_loss_min = epoch_val_loss\n",
    "    print(25*'==')"
   ]
  },
  {
   "cell_type": "code",
   "execution_count": null,
   "metadata": {
    "_cell_guid": "08883f41-c9ba-477d-b5cd-eaca7895ea8b",
    "_uuid": "4a180bb0-3727-4837-b741-34dc96fa94bf",
    "execution": {
     "iopub.execute_input": "2021-08-18T14:21:25.768758Z",
     "iopub.status.busy": "2021-08-18T14:21:25.768260Z",
     "iopub.status.idle": "2021-08-18T14:21:26.071226Z",
     "shell.execute_reply": "2021-08-18T14:21:26.070233Z",
     "shell.execute_reply.started": "2021-08-18T14:21:25.768716Z"
    },
    "jupyter": {
     "outputs_hidden": false
    }
   },
   "outputs": [],
   "source": [
    "fig = plt.figure(figsize = (20, 6))\n",
    "plt.subplot(1, 2, 1)\n",
    "plt.plot(epoch_tr_acc, label='Train Acc')\n",
    "plt.plot(epoch_vl_acc, label='Validation Acc')\n",
    "plt.title(\"Accuracy\")\n",
    "plt.legend()\n",
    "plt.grid()\n",
    "    \n",
    "plt.subplot(1, 2, 2)\n",
    "plt.plot(epoch_tr_loss, label='Train loss')\n",
    "plt.plot(epoch_vl_loss, label='Validation loss')\n",
    "plt.title(\"Loss\")\n",
    "plt.legend()\n",
    "plt.grid()\n",
    "\n",
    "plt.show()"
   ]
  },
  {
   "cell_type": "code",
   "execution_count": null,
   "metadata": {
    "_cell_guid": "092a8618-1b0d-4cb9-8170-47912f9ac286",
    "_uuid": "af43afa4-b14a-4da1-a0dc-85159a5942a4",
    "execution": {
     "iopub.execute_input": "2021-08-18T14:21:26.072913Z",
     "iopub.status.busy": "2021-08-18T14:21:26.072582Z",
     "iopub.status.idle": "2021-08-18T14:21:31.702103Z",
     "shell.execute_reply": "2021-08-18T14:21:31.701309Z",
     "shell.execute_reply.started": "2021-08-18T14:21:26.072880Z"
    },
    "jupyter": {
     "outputs_hidden": false
    }
   },
   "outputs": [],
   "source": [
    "# Evaluation Function\n",
    "from sklearn.metrics import classification_report\n",
    "from sklearn.metrics import confusion_matrix\n",
    "import sklearn.metrics as metrics\n",
    "from sklearn.metrics import roc_auc_score\n",
    "import matplotlib.pyplot as plt\n",
    "def evaluate(model,valid_loader, version='title', threshold=0.5):\n",
    "    y_pred = []\n",
    "    y_true = []\n",
    "    val_h = model.init_hidden(batch_size)\n",
    "    model.eval()\n",
    "    with torch.no_grad():\n",
    "        for inputs, labels in valid_loader :\n",
    "            \n",
    "            val_h = tuple([each.data for each in val_h])\n",
    "\n",
    "            inputs, labels = inputs.to(device), labels.to(device)\n",
    "\n",
    "            output, val_h = model(inputs, val_h)\n",
    "\n",
    "            output = (output > threshold).int()\n",
    "            y_pred.extend(output.tolist())\n",
    "            y_true.extend(labels.tolist())\n",
    "    \n",
    "    print('Classification Report:')\n",
    "    print(classification_report(y_true, y_pred, labels=[1,0], digits=4))\n",
    "    \n",
    "    cm = confusion_matrix(y_true, y_pred, labels=[1,0])\n",
    "    ax= plt.subplot()\n",
    "    sns.heatmap(cm, annot=True, ax = ax, cmap='Blues', fmt=\"d\")\n",
    "\n",
    "    ax.set_title('Confusion Matrix')\n",
    "\n",
    "    ax.set_xlabel('Predicted Labels')\n",
    "    ax.set_ylabel('True Labels')\n",
    "\n",
    "    ax.xaxis.set_ticklabels(['Negative', 'Positive'])\n",
    "    ax.yaxis.set_ticklabels(['Negative', 'Positive'])\n",
    "    \n",
    "    \n",
    "evaluate(model, valid_loader)"
   ]
  },
  {
   "cell_type": "code",
   "execution_count": null,
   "metadata": {
    "execution": {
     "iopub.execute_input": "2021-08-18T14:21:31.703766Z",
     "iopub.status.busy": "2021-08-18T14:21:31.703414Z",
     "iopub.status.idle": "2021-08-18T14:21:37.302454Z",
     "shell.execute_reply": "2021-08-18T14:21:37.301483Z",
     "shell.execute_reply.started": "2021-08-18T14:21:31.703728Z"
    }
   },
   "outputs": [],
   "source": [
    "def plot_auc_roc(model,valid_loader, version='title', threshold=0.5):\n",
    "    y_pred = []\n",
    "    y_true = []\n",
    "    val_h = model.init_hidden(batch_size)\n",
    "    model.eval()\n",
    "    with torch.no_grad():\n",
    "        for inputs, labels in valid_loader :\n",
    "            \n",
    "            val_h = tuple([each.data for each in val_h])\n",
    "\n",
    "            inputs, labels = inputs.to(device), labels.to(device)\n",
    "\n",
    "            output, val_h = model(inputs, val_h)\n",
    "\n",
    "            output = (output > threshold).int()\n",
    "            y_pred.extend(output.tolist())\n",
    "            y_true.extend(labels.tolist())\n",
    "    \n",
    "    print('AUC ROC :')\n",
    "    fpr, tpr, threshold = metrics.roc_curve(y_true, y_pred)\n",
    "    roc_auc = metrics.auc(fpr, tpr)\n",
    "    \n",
    "\n",
    "    #roc_auc = roc_auc_score(y_true, y_pred)\n",
    "    print(roc_auc)\n",
    "    print('----------------------------------------------------------')\n",
    "    \n",
    "    plt.title('Receiver Operating Characteristic')\n",
    "    plt.plot(fpr, tpr, 'b', label = 'AUC = %0.2f' % roc_auc)\n",
    "    plt.legend(loc = 'lower right')\n",
    "    plt.plot([0, 1], [0, 1],'r--')\n",
    "    plt.xlim([0, 1])\n",
    "    plt.ylim([0, 1])\n",
    "    plt.ylabel('True Positive Rate')\n",
    "    plt.xlabel('False Positive Rate')\n",
    "    plt.show()\n",
    "    \n",
    "\n",
    "plot_auc_roc(model, valid_loader) "
   ]
  },
  {
   "cell_type": "markdown",
   "metadata": {
    "_cell_guid": "e9841176-2388-4430-8d5e-d40ed82a5e77",
    "_uuid": "aa80e3a2-b5ff-4c0a-bff2-4154eb9114c7"
   },
   "source": [
    "# Predicting the unlabeled datset"
   ]
  },
  {
   "cell_type": "code",
   "execution_count": null,
   "metadata": {
    "_cell_guid": "a722de1f-d0ad-4d49-9bfd-0de3e21d5e85",
    "_uuid": "4b591aa0-784d-4f40-a786-73b33bbd1001",
    "execution": {
     "iopub.execute_input": "2021-08-18T14:21:37.308049Z",
     "iopub.status.busy": "2021-08-18T14:21:37.307668Z",
     "iopub.status.idle": "2021-08-18T14:22:06.902269Z",
     "shell.execute_reply": "2021-08-18T14:22:06.901361Z",
     "shell.execute_reply.started": "2021-08-18T14:21:37.308009Z"
    },
    "jupyter": {
     "outputs_hidden": false
    }
   },
   "outputs": [],
   "source": [
    "outputs = list()\n",
    "status = list()\n",
    "for review in df1['Review'][:] :\n",
    "    #print(text)\n",
    "    word_seq = np.array([vocab[preprocess_string(word)] for word in review.split() \n",
    "                         if preprocess_string(word) in vocab.keys()])\n",
    "    word_seq = np.expand_dims(word_seq,axis=0)\n",
    "    pad =  torch.from_numpy(padding_(word_seq,500))\n",
    "    inputs = pad.to(device)\n",
    "    batch_size = 1\n",
    "    h = model.init_hidden(batch_size)\n",
    "    h = tuple([each.data for each in h])\n",
    "    output, h = model(inputs, h)\n",
    "    #print(output.item())\n",
    "    pro = output.item()\n",
    "    outputs.append(pro)\n",
    "\n",
    "\n",
    "df1['outputs'] = outputs"
   ]
  },
  {
   "cell_type": "code",
   "execution_count": null,
   "metadata": {
    "_cell_guid": "b9fd9a96-d9d2-4cf6-9d17-e150587f7a5e",
    "_uuid": "d4799b1c-4685-49a4-8af6-1741a1be2afb",
    "execution": {
     "iopub.execute_input": "2021-08-18T14:22:06.904677Z",
     "iopub.status.busy": "2021-08-18T14:22:06.904300Z",
     "iopub.status.idle": "2021-08-18T14:22:06.916546Z",
     "shell.execute_reply": "2021-08-18T14:22:06.915528Z",
     "shell.execute_reply.started": "2021-08-18T14:22:06.904641Z"
    },
    "jupyter": {
     "outputs_hidden": false
    }
   },
   "outputs": [],
   "source": [
    "df1['outputs'] = df1['outputs'].astype(float)  \n",
    "predicted_sentiment = list()\n",
    "df1.head(10)\n",
    "for i in df1['outputs'][:] : \n",
    "    if i < 0.5 : \n",
    "        predicted_sentiment.append('Negative') \n",
    "    else : \n",
    "        predicted_sentiment.append('Positive')\n",
    "\n",
    "df1['predicted_sentiment'] = predicted_sentiment    \n",
    "        \n",
    "        \n",
    "print(df1.shape)\n",
    "print(df1['predicted_sentiment'].value_counts())"
   ]
  },
  {
   "cell_type": "code",
   "execution_count": null,
   "metadata": {
    "_cell_guid": "a9acf732-3116-47e2-8e16-931a39c6f473",
    "_uuid": "3a21845a-af40-4781-9a98-07bdfba4e887",
    "execution": {
     "iopub.execute_input": "2021-08-18T14:22:06.918382Z",
     "iopub.status.busy": "2021-08-18T14:22:06.918002Z",
     "iopub.status.idle": "2021-08-18T14:22:06.932263Z",
     "shell.execute_reply": "2021-08-18T14:22:06.931286Z",
     "shell.execute_reply.started": "2021-08-18T14:22:06.918346Z"
    },
    "jupyter": {
     "outputs_hidden": false
    }
   },
   "outputs": [],
   "source": [
    "df1_pos = df1[df1['predicted_sentiment']=='Positive']\n",
    "df1_neg = df1[df1['predicted_sentiment']=='Negative']\n",
    "print(df1_pos.shape)\n",
    "print(df1_neg.shape)"
   ]
  },
  {
   "cell_type": "markdown",
   "metadata": {
    "_cell_guid": "06f65b7e-eb2c-4762-a759-1b182b3bcd31",
    "_uuid": "ef806734-cf52-42d0-9d60-ca8d0fe743f1"
   },
   "source": [
    "# Wordclouds for predicted reviews"
   ]
  },
  {
   "cell_type": "code",
   "execution_count": null,
   "metadata": {
    "_cell_guid": "e9573920-d604-4e7d-8b27-fd3af03fb573",
    "_uuid": "a87821d3-8e44-4c14-9e96-06f1df7fe534",
    "execution": {
     "iopub.execute_input": "2021-08-18T14:22:06.934153Z",
     "iopub.status.busy": "2021-08-18T14:22:06.933638Z",
     "iopub.status.idle": "2021-08-18T14:22:06.939872Z",
     "shell.execute_reply": "2021-08-18T14:22:06.938665Z",
     "shell.execute_reply.started": "2021-08-18T14:22:06.934097Z"
    },
    "jupyter": {
     "outputs_hidden": false
    }
   },
   "outputs": [],
   "source": [
    "import pandas as pd\n",
    "import numpy as np\n",
    "\n",
    "#for plotting images & adjusting colors\n",
    "import matplotlib.pyplot as plt\n",
    "import matplotlib as mpl\n",
    "from wordcloud import WordCloud, STOPWORDS, ImageColorGenerator\n",
    "from PIL import Image\n",
    "from matplotlib.pyplot import figure"
   ]
  },
  {
   "cell_type": "code",
   "execution_count": null,
   "metadata": {
    "_cell_guid": "a081df60-23d1-48f2-8a03-49b6dc806540",
    "_uuid": "62cbfb93-aa81-454d-82d8-a82d49aec556",
    "execution": {
     "iopub.execute_input": "2021-08-18T14:22:06.941645Z",
     "iopub.status.busy": "2021-08-18T14:22:06.941198Z",
     "iopub.status.idle": "2021-08-18T14:22:06.951898Z",
     "shell.execute_reply": "2021-08-18T14:22:06.951018Z",
     "shell.execute_reply.started": "2021-08-18T14:22:06.941611Z"
    },
    "jupyter": {
     "outputs_hidden": false
    }
   },
   "outputs": [],
   "source": [
    "STOPWORDS.add('https')  # remove htps to the world Cloud\n",
    "\n",
    "def Plot_world(text):\n",
    "    \n",
    "    comment_words = ' '\n",
    "    stopwords = set(STOPWORDS) \n",
    "    \n",
    "    for val in text: \n",
    "\n",
    "        # typecaste each val to string \n",
    "        val = str(val) \n",
    "\n",
    "        # split the value \n",
    "        tokens = val.split() \n",
    "\n",
    "        # Converts each token into lowercase \n",
    "        for i in range(len(tokens)): \n",
    "            tokens[i] = tokens[i].lower() \n",
    "\n",
    "        for words in tokens: \n",
    "            comment_words = comment_words + words + ' '\n",
    "\n",
    "\n",
    "    wordcloud = WordCloud(width = 5000, height = 4000, \n",
    "                    background_color ='black', \n",
    "                    stopwords = stopwords, \n",
    "                    min_font_size = 10).generate(comment_words) \n",
    "\n",
    "    # plot the WordCloud image                        \n",
    "    plt.figure(figsize = (12, 12), facecolor = 'k', edgecolor = 'k' ) \n",
    "    plt.imshow(wordcloud) \n",
    "    plt.axis(\"off\") \n",
    "    plt.tight_layout(pad = 0) \n",
    "\n",
    "    plt.show()"
   ]
  },
  {
   "cell_type": "code",
   "execution_count": null,
   "metadata": {
    "_cell_guid": "e8b95700-5166-4621-8dfa-768ea7b870e9",
    "_uuid": "65d0c1bd-4f95-4771-b1bc-dd54d2f422f6",
    "execution": {
     "iopub.execute_input": "2021-08-18T14:22:06.953960Z",
     "iopub.status.busy": "2021-08-18T14:22:06.953388Z",
     "iopub.status.idle": "2021-08-18T14:23:04.655018Z",
     "shell.execute_reply": "2021-08-18T14:23:04.654026Z",
     "shell.execute_reply.started": "2021-08-18T14:22:06.953923Z"
    },
    "jupyter": {
     "outputs_hidden": false
    }
   },
   "outputs": [],
   "source": [
    "text = df1_pos.Review.values\n",
    "\n",
    "Plot_world(text)"
   ]
  },
  {
   "cell_type": "code",
   "execution_count": null,
   "metadata": {
    "_cell_guid": "6b8e221c-a852-493a-ace2-5c10aceffe4f",
    "_uuid": "67a80041-4c15-4c48-8ebd-115e93e45ae0",
    "execution": {
     "iopub.execute_input": "2021-08-18T14:23:04.656799Z",
     "iopub.status.busy": "2021-08-18T14:23:04.656455Z",
     "iopub.status.idle": "2021-08-18T14:24:07.272737Z",
     "shell.execute_reply": "2021-08-18T14:24:07.271953Z",
     "shell.execute_reply.started": "2021-08-18T14:23:04.656755Z"
    },
    "jupyter": {
     "outputs_hidden": false
    }
   },
   "outputs": [],
   "source": [
    "text = df1_neg.Review.values\n",
    "\n",
    "Plot_world(text)"
   ]
  },
  {
   "cell_type": "markdown",
   "metadata": {
    "_cell_guid": "f3dba9a2-9882-4f2f-b461-dfedb3356bb6",
    "_uuid": "b31fcf8b-3209-42f6-83eb-7dbab4d801c0"
   },
   "source": [
    "# single Predictions"
   ]
  },
  {
   "cell_type": "code",
   "execution_count": null,
   "metadata": {
    "_cell_guid": "3329df0e-51bf-4806-9d05-4511b429f148",
    "_uuid": "2413e41d-049e-433f-9894-92de38bc6c3e",
    "execution": {
     "iopub.execute_input": "2021-08-18T14:24:07.274629Z",
     "iopub.status.busy": "2021-08-18T14:24:07.274030Z",
     "iopub.status.idle": "2021-08-18T14:24:07.282361Z",
     "shell.execute_reply": "2021-08-18T14:24:07.281443Z",
     "shell.execute_reply.started": "2021-08-18T14:24:07.274583Z"
    },
    "jupyter": {
     "outputs_hidden": false
    }
   },
   "outputs": [],
   "source": [
    "def predict_single_text(text):\n",
    "        word_seq = np.array([vocab[preprocess_string(word)] for word in text.split() \n",
    "                         if preprocess_string(word) in vocab.keys()])\n",
    "        word_seq = np.expand_dims(word_seq,axis=0)\n",
    "        pad =  torch.from_numpy(padding_(word_seq,500))\n",
    "        inputs = pad.to(device)\n",
    "        batch_size = 1\n",
    "        h = model.init_hidden(batch_size)\n",
    "        h = tuple([each.data for each in h])\n",
    "        output, h = model(inputs, h)\n",
    "        return(output.item())"
   ]
  },
  {
   "cell_type": "code",
   "execution_count": null,
   "metadata": {
    "_cell_guid": "9273b99a-0746-487e-9a1c-9c70aa0b88da",
    "_uuid": "be371b69-d4d4-49f0-b892-ba2958241d77",
    "execution": {
     "iopub.execute_input": "2021-08-18T14:24:07.283942Z",
     "iopub.status.busy": "2021-08-18T14:24:07.283635Z",
     "iopub.status.idle": "2021-08-18T14:24:07.318933Z",
     "shell.execute_reply": "2021-08-18T14:24:07.317949Z",
     "shell.execute_reply.started": "2021-08-18T14:24:07.283907Z"
    },
    "jupyter": {
     "outputs_hidden": false
    }
   },
   "outputs": [],
   "source": [
    "index = 22\n",
    "index_text = df['review'][index] \n",
    "print(df['review'][index])\n",
    "print('='*70)\n",
    "print(f'Actual sentiment is  : {df[\"sentiment\"][index]}')\n",
    "print('='*70)\n",
    "pro = predict_single_text(df['review'][index])\n",
    "status = \"positive\" if pro > 0.5 else \"negative\"\n",
    "pro = (1 - pro) if status == \"negative\" else pro\n",
    "print(f'Predicted sentiment is {status} with a probability of {pro}')"
   ]
  },
  {
   "cell_type": "code",
   "execution_count": null,
   "metadata": {
    "_cell_guid": "c0547212-2562-49c1-a07e-2ca2841f38ab",
    "_uuid": "f96a7748-867b-45e0-bba1-3ea210a2b806",
    "execution": {
     "iopub.execute_input": "2021-08-18T14:24:07.320750Z",
     "iopub.status.busy": "2021-08-18T14:24:07.320396Z",
     "iopub.status.idle": "2021-08-18T14:24:07.345126Z",
     "shell.execute_reply": "2021-08-18T14:24:07.344314Z",
     "shell.execute_reply.started": "2021-08-18T14:24:07.320715Z"
    },
    "jupyter": {
     "outputs_hidden": false
    }
   },
   "outputs": [],
   "source": [
    "index = 42\n",
    "print(df['review'][index])\n",
    "print('='*70)\n",
    "print(f'Actual sentiment is  : {df[\"sentiment\"][index]}')\n",
    "print('='*70)\n",
    "pro = predict_single_text(df['review'][index])\n",
    "status = \"positive\" if pro > 0.5 else \"negative\"\n",
    "pro = (1 - pro) if status == \"negative\" else pro\n",
    "print(f'predicted sentiment is {status} with a probability of {pro}')"
   ]
  },
  {
   "cell_type": "markdown",
   "metadata": {
    "_cell_guid": "7f923eee-3604-4f23-b709-9d366d1c7269",
    "_uuid": "09a65935-2daa-4df7-be75-668ba781e36b"
   },
   "source": [
    "# CNN KERAS IMPLEMENTATION "
   ]
  },
  {
   "cell_type": "code",
   "execution_count": null,
   "metadata": {
    "_cell_guid": "6bed1bb6-83fe-408d-9379-1c29305829d0",
    "_uuid": "a65a939a-12c4-40ec-aef1-cbdd573d3a9d",
    "execution": {
     "iopub.execute_input": "2021-08-18T14:24:07.346803Z",
     "iopub.status.busy": "2021-08-18T14:24:07.346294Z",
     "iopub.status.idle": "2021-08-18T14:24:07.352868Z",
     "shell.execute_reply": "2021-08-18T14:24:07.351829Z",
     "shell.execute_reply.started": "2021-08-18T14:24:07.346765Z"
    },
    "jupyter": {
     "outputs_hidden": false
    }
   },
   "outputs": [],
   "source": [
    "import numpy\n",
    "from keras.datasets import imdb\n",
    "from keras.models import Sequential\n",
    "from keras.layers import Dense\n",
    "from keras.layers import LSTM\n",
    "from keras.layers.embeddings import Embedding\n",
    "from keras.layers.convolutional import Conv1D\n",
    "from keras.layers.convolutional import MaxPooling1D\n",
    "from keras.preprocessing import sequence\n",
    "# fix random seed for reproducibility\n",
    "numpy.random.seed(7)"
   ]
  },
  {
   "cell_type": "code",
   "execution_count": null,
   "metadata": {
    "_cell_guid": "925f5c3a-2893-4152-b3c4-4df8ec8fb490",
    "_uuid": "11f406d4-39d6-4d86-bb2c-a2e885a47727",
    "execution": {
     "iopub.execute_input": "2021-08-18T14:24:07.354965Z",
     "iopub.status.busy": "2021-08-18T14:24:07.354275Z",
     "iopub.status.idle": "2021-08-18T14:24:08.254582Z",
     "shell.execute_reply": "2021-08-18T14:24:08.253556Z",
     "shell.execute_reply.started": "2021-08-18T14:24:07.354924Z"
    },
    "jupyter": {
     "outputs_hidden": false
    }
   },
   "outputs": [],
   "source": [
    "#truncate and pad input sequences\n",
    "top_words = 5000\n",
    "max_review_length = 500\n",
    "X_train = sequence.pad_sequences(x_train, maxlen=max_review_length)\n",
    "X_test = sequence.pad_sequences(x_test, maxlen=max_review_length)"
   ]
  },
  {
   "cell_type": "code",
   "execution_count": null,
   "metadata": {
    "_cell_guid": "a9ac6c0b-06d6-4d99-a085-d9722d9948d3",
    "_uuid": "3d847885-3e00-460e-9e2a-b493f3b5540e",
    "execution": {
     "iopub.execute_input": "2021-08-18T14:24:08.257666Z",
     "iopub.status.busy": "2021-08-18T14:24:08.257324Z",
     "iopub.status.idle": "2021-08-18T14:24:44.583873Z",
     "shell.execute_reply": "2021-08-18T14:24:44.583008Z",
     "shell.execute_reply.started": "2021-08-18T14:24:08.257629Z"
    },
    "jupyter": {
     "outputs_hidden": false
    }
   },
   "outputs": [],
   "source": [
    "# create the model\n",
    "embedding_vecor_length = 32\n",
    "model = Sequential()\n",
    "model.add(Embedding(top_words, embedding_vecor_length, input_length=max_review_length))\n",
    "model.add(Conv1D(filters=32, kernel_size=3, padding='same', activation='relu'))\n",
    "model.add(MaxPooling1D(pool_size=2))\n",
    "#model.add(Conv1D(filters=32, kernel_size=3, padding='same', activation='relu'))\n",
    "#model.add(MaxPooling1D(pool_size=2))\n",
    "model.add(LSTM(100))\n",
    "#model.add(LSTM(16))\n",
    "model.add(Dense(1, activation='sigmoid'))\n",
    "model.compile(loss='binary_crossentropy', optimizer='adam', metrics=['accuracy'])\n",
    "print(model.summary())\n",
    "train_history = model.fit(X_train, y_train, epochs=6, batch_size=256)\n",
    "# Final evaluation of the model\n",
    "scores = model.evaluate(X_test, y_test, verbose=0)\n",
    "print(\"Accuracy: %.2f%%\" % (scores[1]*100))"
   ]
  },
  {
   "cell_type": "code",
   "execution_count": null,
   "metadata": {
    "_cell_guid": "95a3a4ef-a9fb-4c78-93ee-f970bfede38a",
    "_uuid": "8906d67e-b43f-4258-bfb8-4fa7c871e2cd",
    "execution": {
     "iopub.execute_input": "2021-08-18T14:24:44.585637Z",
     "iopub.status.busy": "2021-08-18T14:24:44.585280Z",
     "iopub.status.idle": "2021-08-18T14:24:44.726987Z",
     "shell.execute_reply": "2021-08-18T14:24:44.726075Z",
     "shell.execute_reply.started": "2021-08-18T14:24:44.585590Z"
    },
    "jupyter": {
     "outputs_hidden": false
    }
   },
   "outputs": [],
   "source": [
    "acc = train_history.history['accuracy']\n",
    "loss = train_history.history['loss']\n",
    "\n",
    "epochs = range(len(acc))\n",
    "\n",
    "plt.plot(epochs, acc, 'bo', label=' accruacy')\n",
    "plt.plot(epochs, loss, 'b', label='loss')\n",
    "plt.title('Training and validation accuracy')\n",
    "plt.legend()\n",
    "\n",
    "plt.show()"
   ]
  },
  {
   "cell_type": "code",
   "execution_count": null,
   "metadata": {
    "_cell_guid": "b4cf99e3-55e2-425e-9a1d-3c4a92f3d250",
    "_uuid": "67c56289-1c54-4b6c-8134-1161fa2d0714",
    "execution": {
     "iopub.execute_input": "2021-08-18T14:24:44.728556Z",
     "iopub.status.busy": "2021-08-18T14:24:44.728223Z",
     "iopub.status.idle": "2021-08-18T14:24:46.731438Z",
     "shell.execute_reply": "2021-08-18T14:24:46.730546Z",
     "shell.execute_reply.started": "2021-08-18T14:24:44.728522Z"
    },
    "jupyter": {
     "outputs_hidden": false
    }
   },
   "outputs": [],
   "source": [
    "# Final evaluation of the model\n",
    "scores = model.evaluate(X_test, y_test, verbose=0)\n",
    "print(\"Accuracy: %.2f%%\" % (scores[1]*100))"
   ]
  },
  {
   "cell_type": "code",
   "execution_count": null,
   "metadata": {
    "_cell_guid": "03de24e9-cd3e-4681-9d79-dc99d74abccd",
    "_uuid": "02d06435-d653-412e-9801-4aabd80254d2",
    "execution": {
     "iopub.execute_input": "2021-08-18T14:24:46.734748Z",
     "iopub.status.busy": "2021-08-18T14:24:46.734491Z",
     "iopub.status.idle": "2021-08-18T14:24:48.629014Z",
     "shell.execute_reply": "2021-08-18T14:24:48.628190Z",
     "shell.execute_reply.started": "2021-08-18T14:24:46.734720Z"
    },
    "jupyter": {
     "outputs_hidden": false
    }
   },
   "outputs": [],
   "source": [
    "y_pred = model.predict(X_test)\n",
    "\n",
    "y_pred = y_pred.argmax(axis=-1)\n",
    "y_test = y_test.argmax(axis=-1)"
   ]
  },
  {
   "cell_type": "markdown",
   "metadata": {},
   "source": [
    "# CNN Pytorch implementation "
   ]
  },
  {
   "cell_type": "code",
   "execution_count": null,
   "metadata": {
    "_cell_guid": "f6426355-1601-41cb-a02b-71bd2cc6e6af",
    "_uuid": "711f928a-8c0b-4748-a4b6-99bcb59702e5",
    "execution": {
     "iopub.execute_input": "2021-08-18T14:24:48.630648Z",
     "iopub.status.busy": "2021-08-18T14:24:48.630304Z",
     "iopub.status.idle": "2021-08-18T14:24:49.354505Z",
     "shell.execute_reply": "2021-08-18T14:24:49.353573Z",
     "shell.execute_reply.started": "2021-08-18T14:24:48.630602Z"
    },
    "jupyter": {
     "outputs_hidden": false
    }
   },
   "outputs": [],
   "source": [
    "import os\n",
    "import sys\n",
    "import random\n",
    "import time\n",
    "import numpy as np\n",
    "import pandas as pd\n",
    "from tqdm import tqdm\n",
    "from collections import OrderedDict\n",
    "import re, string\n",
    "import torch\n",
    "from torch import nn\n",
    "from torch.utils.data import Dataset, DataLoader\n",
    "\n",
    "\n",
    "!mkdir ./model_bakup/\n",
    "\n",
    "device = torch.device('cuda' if torch.cuda.is_available() else 'cpu')\n",
    "class CFG:\n",
    "    batch_size = 20\n",
    "    lr = 0.01\n",
    "    eval_step_num = 300\n",
    "    best_eval_acc = 0.0\n",
    "    model_output_dir = './model_bakup/'\n",
    "    seed = 2032\n",
    "    \n",
    "global_start_t = time.time()\n",
    "print('ok')\n",
    "#seed_everything(seed=42)"
   ]
  },
  {
   "cell_type": "code",
   "execution_count": null,
   "metadata": {
    "execution": {
     "iopub.execute_input": "2021-08-18T14:24:49.356514Z",
     "iopub.status.busy": "2021-08-18T14:24:49.356152Z",
     "iopub.status.idle": "2021-08-18T14:24:55.836233Z",
     "shell.execute_reply": "2021-08-18T14:24:55.835336Z",
     "shell.execute_reply.started": "2021-08-18T14:24:49.356473Z"
    }
   },
   "outputs": [],
   "source": [
    "def pad(data_list, pad_length):\n",
    "    padded_list = data_list.copy()\n",
    "    \n",
    "    if len(data_list) > pad_length:\n",
    "        padded_list = data_list[-pad_length:]\n",
    "        \n",
    "    if len(data_list) < pad_length:\n",
    "        padded_list = [1] * (pad_length-len(data_list)) + data_list\n",
    "        \n",
    "    return padded_list\n",
    "\n",
    "def text_to_token(text):\n",
    "    cleaned_text = clean_text(text)\n",
    "    word_token_list = [word_id_dict.get(word, 0) for word in cleaned_text.split(' ')]\n",
    "    pad_list = pad(word_token_list, MAX_LEN)\n",
    "    token = ' '.join([str(x) for x in pad_list])\n",
    "    return token\n",
    "            \n",
    "process_start_t = time.time()\n",
    "print('start processing...')\n",
    "df['sentiment'] = df['sentiment'].map({'positive': 1, 'negative': 0})\n",
    "df['review_tokens'] = df['review'].map(text_to_token)\n",
    "print('ok, cost time: ', time.time()-process_start_t)\n",
    "df.head(5)"
   ]
  },
  {
   "cell_type": "code",
   "execution_count": null,
   "metadata": {
    "execution": {
     "iopub.execute_input": "2021-08-18T14:24:55.837899Z",
     "iopub.status.busy": "2021-08-18T14:24:55.837552Z",
     "iopub.status.idle": "2021-08-18T14:24:55.843839Z",
     "shell.execute_reply": "2021-08-18T14:24:55.842691Z",
     "shell.execute_reply.started": "2021-08-18T14:24:55.837863Z"
    }
   },
   "outputs": [],
   "source": [
    "df_train = df.iloc[:15000]\n",
    "df_valid = df.iloc[15000:20000]\n",
    "df_test = df.iloc[20000:]\n",
    "print(f'imdb_data_train.shape: {df_train.shape}, imdb_data_valid.shape: {df_valid.shape}, '\n",
    "      f'imdb_data_test.shape: {df_test.shape}')"
   ]
  },
  {
   "cell_type": "code",
   "execution_count": null,
   "metadata": {
    "execution": {
     "iopub.execute_input": "2021-08-18T14:24:55.845711Z",
     "iopub.status.busy": "2021-08-18T14:24:55.845331Z",
     "iopub.status.idle": "2021-08-18T14:25:15.328847Z",
     "shell.execute_reply": "2021-08-18T14:25:15.328037Z",
     "shell.execute_reply.started": "2021-08-18T14:24:55.845675Z"
    }
   },
   "outputs": [],
   "source": [
    "glove_path = '../input/glove6b/glove.6B.100d.txt'\n",
    "\n",
    "cnt = 0\n",
    "word_2_vector_map = {}\n",
    "with open(glove_path) as fin:\n",
    "    for line in fin:\n",
    "        line = line.strip()\n",
    "        word = line.split()[0]\n",
    "        vector = np.array([float(val) for val in line.split()[1:]])\n",
    "        word_2_vector_map[word] = vector\n",
    "        cnt += 1\n",
    "print('cnt is', cnt, 'len of word_2_vector_map: ', len(word_2_vector_map))\n",
    "\n",
    "embed_size = 100\n",
    "glove6b_100d_weight = torch.zeros(len(word_id_dict), embed_size)\n",
    "\n",
    "for word, idx in word_id_dict.items():\n",
    "    try:\n",
    "        vector = word_2_vector_map[word]\n",
    "    except:\n",
    "        print('not found in : ', word)\n",
    "        continue\n",
    "    glove6b_100d_weight[idx, :] = torch.from_numpy(vector)\n",
    "    \n",
    "print('glove6b_100d_weight.shape: ', glove6b_100d_weight.shape)"
   ]
  },
  {
   "cell_type": "code",
   "execution_count": null,
   "metadata": {
    "execution": {
     "iopub.execute_input": "2021-08-18T14:25:15.332482Z",
     "iopub.status.busy": "2021-08-18T14:25:15.332224Z",
     "iopub.status.idle": "2021-08-18T14:25:15.337029Z",
     "shell.execute_reply": "2021-08-18T14:25:15.336018Z",
     "shell.execute_reply.started": "2021-08-18T14:25:15.332455Z"
    }
   },
   "outputs": [],
   "source": [
    "cfg = CFG()\n",
    "#seed_everything(seed=cfg.seed)\n",
    "\n",
    "print('ok')"
   ]
  },
  {
   "cell_type": "code",
   "execution_count": null,
   "metadata": {
    "execution": {
     "iopub.execute_input": "2021-08-18T14:25:15.338914Z",
     "iopub.status.busy": "2021-08-18T14:25:15.338451Z",
     "iopub.status.idle": "2021-08-18T14:25:15.354685Z",
     "shell.execute_reply": "2021-08-18T14:25:15.353638Z",
     "shell.execute_reply.started": "2021-08-18T14:25:15.338878Z"
    }
   },
   "outputs": [],
   "source": [
    "class imdbDataset(Dataset):\n",
    "    def __init__(self, data_df):\n",
    "        self.data_df = data_df\n",
    "        \n",
    "    def __len__(self):\n",
    "        return len(self.data_df)\n",
    "    \n",
    "    def __getitem__(self, index):\n",
    "        label = self.data_df.iloc[index]['sentiment']\n",
    "        label = torch.tensor([float(label)], dtype=torch.float, device=device)\n",
    "        \n",
    "        tokens = self.data_df.iloc[index]['review_tokens']\n",
    "        feature = torch.tensor([int(x) for x in tokens.split(' ')], dtype=torch.long, device=device)\n",
    "            \n",
    "        return feature, label\n",
    "    \n",
    "def generate_data_iter(cfg):\n",
    "    global df_train, df_valid, df_test\n",
    "    ds_train = imdbDataset(df_train)\n",
    "    ds_valid = imdbDataset(df_valid)\n",
    "    ds_test = imdbDataset(df_test)\n",
    "    print('len of ds_train: ', len(ds_train), 'len of ds_valid: ', len(ds_valid),\n",
    "          'len of ds_test: ', len(ds_test))\n",
    "\n",
    "    dl_train = DataLoader(ds_train, batch_size=cfg.batch_size, shuffle=True, num_workers=0)\n",
    "    dl_valid = DataLoader(ds_valid, batch_size=cfg.batch_size, shuffle=False, num_workers=0)\n",
    "    dl_test = DataLoader(ds_test, batch_size=cfg.batch_size, shuffle=False, num_workers=0)\n",
    "    return dl_train, dl_valid, dl_test\n",
    "\n",
    "dl_train, dl_valid, dl_test = generate_data_iter(cfg)\n",
    "print('ok')"
   ]
  },
  {
   "cell_type": "code",
   "execution_count": null,
   "metadata": {
    "execution": {
     "iopub.execute_input": "2021-08-18T14:25:15.356780Z",
     "iopub.status.busy": "2021-08-18T14:25:15.356296Z",
     "iopub.status.idle": "2021-08-18T14:25:15.374853Z",
     "shell.execute_reply": "2021-08-18T14:25:15.373758Z",
     "shell.execute_reply.started": "2021-08-18T14:25:15.356742Z"
    }
   },
   "outputs": [],
   "source": [
    "class CNN_Net(nn.Module):\n",
    "    def __init__(self):\n",
    "        global glove6b_100d_weight\n",
    "        super().__init__()\n",
    "        \n",
    "        #self.embedding = nn.Embedding(num_embeddings=MAX_WORDS, embedding_dim=3, padding_idx=1)\n",
    "        self.embedding = nn.Embedding.from_pretrained(glove6b_100d_weight, freeze=False)\n",
    "        assert self.embedding.weight.requires_grad==True, 'should be True, because freeze=False'\n",
    "        \n",
    "        self.conv = nn.Sequential()\n",
    "        self.conv.add_module('conv_1', nn.Conv1d(in_channels=100, out_channels=16, kernel_size=5))\n",
    "        self.conv.add_module('pool_1', nn.MaxPool1d(kernel_size=2))\n",
    "        self.conv.add_module('relu_1', nn.ReLU())\n",
    "        self.conv.add_module('conv_2', nn.Conv1d(in_channels=16, out_channels=128, kernel_size=2))\n",
    "        self.conv.add_module('pool_2', nn.MaxPool1d(kernel_size=2))\n",
    "        self.conv.add_module('relu_2', nn.ReLU())\n",
    "        \n",
    "        self.dense = nn.Sequential()\n",
    "        self.dense.add_module('flatten', nn.Flatten())\n",
    "        self.dense.add_module('linear', nn.Linear(6144, 1))\n",
    "        self.dense.add_module('sigmoid', nn.Sigmoid())\n",
    "        \n",
    "    def forward(self, x):\n",
    "        x = self.embedding(x).transpose(1, 2)\n",
    "        x = self.conv(x)\n",
    "        y = self.dense(x)\n",
    "        return y\n",
    "    \n",
    "model = CNN_Net()\n",
    "print(model)\n",
    "model.to(device)     \n",
    "\n",
    "print('ok')"
   ]
  },
  {
   "cell_type": "code",
   "execution_count": null,
   "metadata": {
    "execution": {
     "iopub.execute_input": "2021-08-18T14:25:15.376751Z",
     "iopub.status.busy": "2021-08-18T14:25:15.376204Z",
     "iopub.status.idle": "2021-08-18T14:25:15.395369Z",
     "shell.execute_reply": "2021-08-18T14:25:15.394210Z",
     "shell.execute_reply.started": "2021-08-18T14:25:15.376713Z"
    }
   },
   "outputs": [],
   "source": [
    "def accuracy(y_pred, y_true):\n",
    "    if type(y_pred)==list:\n",
    "        y_pred = np.array(y_pred)\n",
    "    y_pred = (y_pred > 0.5)\n",
    "    if type(y_true)==list:\n",
    "        y_true = np.array(y_true)\n",
    "    acc = (y_pred==y_true).mean()\n",
    "    return acc\n",
    "\n",
    "def evaluate(model, dl_test, device):\n",
    "    global cfg\n",
    "    model.eval()\n",
    "    \n",
    "    y_true_lst, y_pred_lst = [], []\n",
    "    with torch.no_grad():\n",
    "        for step, batch in tqdm(enumerate(dl_test)):\n",
    "            feature, label = batch\n",
    "            feature, label = feature.to(device), label.to(device)\n",
    "            y_pred = model(feature)\n",
    "            y_pred_lst += list(y_pred.detach().cpu().numpy())\n",
    "            y_true_lst += list(label.detach().cpu().numpy())\n",
    "            \n",
    "    model.train() \n",
    "    acc = accuracy(y_pred_lst, y_true_lst)\n",
    "\n",
    "    return acc\n",
    "    \n",
    "def train(model, dl_train, optimizer, loss_func, device):\n",
    "    global cfg, global_step_num\n",
    "    model.train()  \n",
    "    \n",
    "    y_true_lst, y_pred_lst = [], []\n",
    "    #pbar = ProgressBar(n_total=len(dl_train), desc='Training')\n",
    "    \n",
    "    for step, batch in tqdm(enumerate(dl_train)):\n",
    "        global_step_num += 1\n",
    "        feature, label = batch\n",
    "        feature, label = feature.to(device), label.to(device)\n",
    "        #print('in train(), feature.shape:', feature.shape, 'label.shape: ', label.shape)\n",
    "        y_pred = model(feature)\n",
    "        train_loss = loss_func(y_pred, label)\n",
    "        y_pred_lst += list(y_pred.detach().cpu().numpy())\n",
    "        y_true_lst += list(label.detach().cpu().numpy())\n",
    "        train_loss.backward()\n",
    "        optimizer.step()\n",
    "        model.zero_grad()\n",
    "        \n",
    "    print('in train(), len(dl_train): ', len(dl_train))\n",
    "        \n",
    "    acc = accuracy(y_pred_lst, y_true_lst)\n",
    "    return acc\n",
    "\n",
    "print('ok')"
   ]
  },
  {
   "cell_type": "code",
   "execution_count": null,
   "metadata": {
    "execution": {
     "iopub.execute_input": "2021-08-18T14:25:15.397202Z",
     "iopub.status.busy": "2021-08-18T14:25:15.396821Z",
     "iopub.status.idle": "2021-08-18T14:28:24.665254Z",
     "shell.execute_reply": "2021-08-18T14:28:24.664335Z",
     "shell.execute_reply.started": "2021-08-18T14:25:15.397164Z"
    }
   },
   "outputs": [],
   "source": [
    "global_best_train_acc, global_best_valid_acc = 0.0, 0.0\n",
    "global_train_acc = 0.0\n",
    "global_step_num = 0\n",
    "\n",
    "epochs = 6\n",
    "# optimizer=torch.optim.Adagrad(model.parameters(), lr=cfg.lr)\n",
    "optimizer=torch.optim.Adam(model.parameters(), lr=cfg.lr)\n",
    "loss_func = nn.BCELoss()\n",
    "\n",
    "for epoch in range(epochs):\n",
    "    train_acc = train(model, dl_train, optimizer, loss_func, device)\n",
    "    valid_acc = evaluate(model, dl_valid, device)\n",
    "    test_acc = evaluate(model, dl_test, device)\n",
    "    print(f'in epoch: {epoch}, train_acc: {train_acc:.5f}, valid_acc: {valid_acc:.5f}, test_acc: {test_acc:.5f}')\n",
    "    if train_acc > global_best_train_acc:\n",
    "        global_best_train_acc = train_acc\n",
    "    if valid_acc > global_best_valid_acc:\n",
    "        global_best_valid_acc = valid_acc\n",
    "        global_train_acc = train_acc\n",
    "        print(f'get new best_valid_acc: {global_best_valid_acc:.5f}, save the model now!')\n",
    "        torch.save(model.state_dict(), os.path.join(cfg.model_output_dir, 'best_step_model.pth'))"
   ]
  },
  {
   "cell_type": "code",
   "execution_count": null,
   "metadata": {
    "execution": {
     "iopub.execute_input": "2021-08-18T14:28:24.668996Z",
     "iopub.status.busy": "2021-08-18T14:28:24.668402Z",
     "iopub.status.idle": "2021-08-18T14:28:41.612152Z",
     "shell.execute_reply": "2021-08-18T14:28:41.611171Z",
     "shell.execute_reply.started": "2021-08-18T14:28:24.668955Z"
    }
   },
   "outputs": [],
   "source": [
    "model = CNN_Net()\n",
    "model.to(device)\n",
    "\n",
    "model.load_state_dict(torch.load(os.path.join(cfg.model_output_dir, 'best_step_model.pth')))\n",
    "test_acc = evaluate(model, dl_test, device)\n",
    "print(f'final test_acc: {test_acc:.5f}, best_val_acc: {global_best_valid_acc:.5f}, '\n",
    "      f'train_acc: {global_train_acc:.5f}, best_train_acc: {global_best_train_acc:.5f}')\n",
    "\n",
    "print('total finished, cost time: ', time.time() - global_start_t)"
   ]
  }
 ],
 "metadata": {
  "kernelspec": {
   "display_name": "Python 3",
   "language": "python",
   "name": "python3"
  },
  "language_info": {
   "codemirror_mode": {
    "name": "ipython",
    "version": 3
   },
   "file_extension": ".py",
   "mimetype": "text/x-python",
   "name": "python",
   "nbconvert_exporter": "python",
   "pygments_lexer": "ipython3",
   "version": "3.8.8"
  }
 },
 "nbformat": 4,
 "nbformat_minor": 4
}
